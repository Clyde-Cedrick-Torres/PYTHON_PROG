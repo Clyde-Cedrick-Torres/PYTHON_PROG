{
 "cells": [
  {
   "cell_type": "markdown",
   "id": "86b8a812-360d-4281-9549-4a153b03bb13",
   "metadata": {},
   "source": [
    "# REVIEW QUESTION 5"
   ]
  },
  {
   "cell_type": "code",
   "execution_count": 6,
   "id": "99321a67-0eaf-4447-845a-e88490fc23bf",
   "metadata": {},
   "outputs": [
    {
     "name": "stdout",
     "output_type": "stream",
     "text": [
      "Multiplication Result is: 84\n"
     ]
    }
   ],
   "source": [
    "#MULTIPLICATION RESULT\n",
    "string = \"42\"\n",
    "integer = int(string)\n",
    "result = integer * 2\n",
    "print(\"Multiplication Result is:\", result)"
   ]
  },
  {
   "cell_type": "code",
   "execution_count": 7,
   "id": "c64fe65e-6050-43ad-973f-36717c63dc62",
   "metadata": {
    "scrolled": true
   },
   "outputs": [
    {
     "name": "stdout",
     "output_type": "stream",
     "text": [
      "Multiplication Result is: 84.4\n"
     ]
    },
    {
     "data": {
      "text/plain": [
       "42.2"
      ]
     },
     "execution_count": 7,
     "metadata": {},
     "output_type": "execute_result"
    }
   ],
   "source": [
    "#FLOAT\n",
    "string = '42.2'\n",
    "num_float = float(string)\n",
    "result = num_float * 2\n",
    "print(\"Multiplication Result is:\", result)\n",
    "float(string)"
   ]
  },
  {
   "cell_type": "code",
   "execution_count": 5,
   "id": "72fb459f-3855-4563-aa2c-78b65792e28c",
   "metadata": {},
   "outputs": [
    {
     "name": "stdout",
     "output_type": "stream",
     "text": [
      "The score is  45\n"
     ]
    }
   ],
   "source": [
    "#INPUT FUNCTION DISPLAYS THE RESULT\n",
    "text= \"The score is \"\n",
    "number = 45\n",
    "\n",
    "print(text + \" \" +str(number))"
   ]
  },
  {
   "cell_type": "code",
   "execution_count": null,
   "id": "e0f04b6f-1375-4ea5-b9a5-bccd93759647",
   "metadata": {},
   "outputs": [],
   "source": []
  }
 ],
 "metadata": {
  "kernelspec": {
   "display_name": "Python 3 (ipykernel)",
   "language": "python",
   "name": "python3"
  },
  "language_info": {
   "codemirror_mode": {
    "name": "ipython",
    "version": 3
   },
   "file_extension": ".py",
   "mimetype": "text/x-python",
   "name": "python",
   "nbconvert_exporter": "python",
   "pygments_lexer": "ipython3",
   "version": "3.10.18"
  }
 },
 "nbformat": 4,
 "nbformat_minor": 5
}
