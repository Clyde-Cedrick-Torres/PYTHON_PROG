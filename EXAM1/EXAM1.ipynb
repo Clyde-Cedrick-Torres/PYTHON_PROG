{
 "cells": [
  {
   "cell_type": "markdown",
   "id": "376b68d3-1662-4374-9d0a-2101602136df",
   "metadata": {},
   "source": [
    "# 1st Long Exam Date:09/10/2025"
   ]
  },
  {
   "cell_type": "markdown",
   "id": "56675c80-02d8-43c3-9c4c-17679b27da8c",
   "metadata": {},
   "source": [
    "# Torres Clyde Cedrick L.  ID:21426853"
   ]
  },
  {
   "cell_type": "code",
   "execution_count": 2,
   "id": "00802624-a571-4091-b3de-6aa6fac4671b",
   "metadata": {},
   "outputs": [
    {
     "name": "stdin",
     "output_type": "stream",
     "text": [
      "Enter a name Clyde\n"
     ]
    },
    {
     "name": "stdout",
     "output_type": "stream",
     "text": [
      "Hello Clyde\n"
     ]
    }
   ],
   "source": [
    "#QUESTION1\n",
    "prompt = input(\"Enter a name\")\n",
    "print(\"Hello \" + prompt)"
   ]
  },
  {
   "cell_type": "code",
   "execution_count": 9,
   "id": "91498bcd-9dae-4977-b8f7-d48a1d60810e",
   "metadata": {},
   "outputs": [
    {
     "name": "stdin",
     "output_type": "stream",
     "text": [
      "Enter a number 2\n"
     ]
    },
    {
     "name": "stdout",
     "output_type": "stream",
     "text": [
      "The sum is: 1.5\n"
     ]
    }
   ],
   "source": [
    "#QUESTION2\n",
    "n = int(input(\"Enter a number\"))\n",
    "r =  (n + 1)/2\n",
    "print(f\"The sum is: {r}\")"
   ]
  },
  {
   "cell_type": "code",
   "execution_count": 14,
   "id": "1ee0f081-f58c-4c92-aafc-22b6d6df51a8",
   "metadata": {},
   "outputs": [
    {
     "ename": "SyntaxError",
     "evalue": "unmatched ')' (2622747921.py, line 2)",
     "output_type": "error",
     "traceback": [
      "\u001b[1;36m  Cell \u001b[1;32mIn[14], line 2\u001b[1;36m\u001b[0m\n\u001b[1;33m    A = int input (\"ENTER A LENGTH FOR A  IN THE RIGHT TRIANGLE\"))\u001b[0m\n\u001b[1;37m                                                                 ^\u001b[0m\n\u001b[1;31mSyntaxError\u001b[0m\u001b[1;31m:\u001b[0m unmatched ')'\n"
     ]
    }
   ],
   "source": [
    "#QUESTION 5\n",
    "A = input (\"ENTER A LENGTH FOR A  IN THE RIGHT TRIANGLE\"))\n",
    "B=  input (\"ENTER B LENGTH FOR B IN THE RIGHT TRIANGLE\"))\n",
    "h = ((A ** 2) + (B ** 2)) ** 0.50\n",
    "print(\"THE HYPOTENUSE LENGTH IS : \",  h)"
   ]
  },
  {
   "cell_type": "code",
   "execution_count": null,
   "id": "f465e6e1-cfc2-4b10-84cf-ad5a60f35674",
   "metadata": {},
   "outputs": [],
   "source": []
  }
 ],
 "metadata": {
  "kernelspec": {
   "display_name": "Python 3 (ipykernel)",
   "language": "python",
   "name": "python3"
  },
  "language_info": {
   "codemirror_mode": {
    "name": "ipython",
    "version": 3
   },
   "file_extension": ".py",
   "mimetype": "text/x-python",
   "name": "python",
   "nbconvert_exporter": "python",
   "pygments_lexer": "ipython3",
   "version": "3.10.18"
  }
 },
 "nbformat": 4,
 "nbformat_minor": 5
}
