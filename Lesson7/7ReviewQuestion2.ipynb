{
 "cells": [
  {
   "cell_type": "code",
   "execution_count": 2,
   "id": "f9136e79-2e06-4e74-8948-61102f5bb0ad",
   "metadata": {},
   "outputs": [
    {
     "name": "stdout",
     "output_type": "stream",
     "text": [
      "THE AREA OF A 5-BY-8 RECTANGLE IS 40\n"
     ]
    }
   ],
   "source": [
    "import sys\n",
    "import os\n",
    "sys.path.append(os.path.abspath(\"..\"))\n",
    "\n",
    "from helpers.string import shout\n",
    "from helpers.math import area\n",
    "\n",
    "length = 5\n",
    "width = 8\n",
    "result = area(length, width)\n",
    "\n",
    "print(shout(f\"The area of a {length}-by-{width} rectangle is {result}\"))\n"
   ]
  },
  {
   "cell_type": "code",
   "execution_count": null,
   "id": "8cd7c426-c75f-4a11-80c3-c5c834544676",
   "metadata": {},
   "outputs": [],
   "source": []
  }
 ],
 "metadata": {
  "kernelspec": {
   "display_name": "Python 3 (ipykernel)",
   "language": "python",
   "name": "python3"
  },
  "language_info": {
   "codemirror_mode": {
    "name": "ipython",
    "version": 3
   },
   "file_extension": ".py",
   "mimetype": "text/x-python",
   "name": "python",
   "nbconvert_exporter": "python",
   "pygments_lexer": "ipython3",
   "version": "3.10.18"
  }
 },
 "nbformat": 4,
 "nbformat_minor": 5
}
