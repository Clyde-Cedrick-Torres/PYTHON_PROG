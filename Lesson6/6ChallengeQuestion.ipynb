{
 "cells": [
  {
   "cell_type": "markdown",
   "id": "f6f9f454-b19e-4394-b7b7-a017975829ec",
   "metadata": {},
   "source": [
    "# CHALLENGE QUESTION MODEL A FARM"
   ]
  },
  {
   "cell_type": "code",
   "execution_count": 4,
   "id": "07d820d6-19e6-43c2-b890-bf8559785144",
   "metadata": {},
   "outputs": [
    {
     "name": "stdout",
     "output_type": "stream",
     "text": [
      "Jeff says Moo!\n",
      "Jeff is eating.\n",
      "Jeff is producing milk.\n",
      "\n",
      "Chimken says Cocatoo!\n",
      "Chimken is sleeping.\n",
      "Chimken laid an egg.\n",
      "\n",
      "Shaun says Baa!\n",
      "Shaun is eating.\n",
      "Shaun is running.\n"
     ]
    }
   ],
   "source": [
    "\n",
    "class Animal:\n",
    "    def __init__(self, name, sound):\n",
    "        self.name = name\n",
    "        self.sound = sound\n",
    "\n",
    "    def eat(self):\n",
    "        print(f\"{self.name} is eating.\")\n",
    "\n",
    "    def sleep(self):\n",
    "        print(f\"{self.name} is sleeping.\")\n",
    "\n",
    "    def make_sound(self):\n",
    "        print(f\"{self.name} says {self.sound}!\")\n",
    "\n",
    "\n",
    "\n",
    "class Cow(Animal):\n",
    "    def __init__(self, name):\n",
    "        super().__init__(name, \"Moo\")\n",
    "\n",
    "    def produce_milk(self):\n",
    "        print(f\"{self.name} is producing milk.\")\n",
    "\n",
    "\n",
    "class Chicken(Animal):\n",
    "    def __init__(self, name):\n",
    "        super().__init__(name, \"Cocatoo\")\n",
    "\n",
    "    def lay_egg(self):\n",
    "        print(f\"{self.name} laid an egg.\")\n",
    "\n",
    "\n",
    "class Sheep(Animal):\n",
    "    def __init__(self, name):\n",
    "        super().__init__(name, \"Baa\")\n",
    "\n",
    "    def shear_wool(self):\n",
    "        print(f\"{self.name} is running.\")\n",
    "\n",
    "\n",
    "\n",
    "bessie = Cow(\"Jeff\")\n",
    "clucky = Chicken(\"Chimken\")\n",
    "wooly = Sheep(\"Shaun\")\n",
    "\n",
    "bessie.make_sound()\n",
    "bessie.eat()\n",
    "bessie.produce_milk()\n",
    "\n",
    "print()  \n",
    "\n",
    "clucky.make_sound()\n",
    "clucky.sleep()\n",
    "clucky.lay_egg()\n",
    "\n",
    "print()\n",
    "\n",
    "wooly.make_sound()\n",
    "wooly.eat()\n",
    "wooly.shear_wool()\n"
   ]
  },
  {
   "cell_type": "code",
   "execution_count": null,
   "id": "4d3f57ce-20e5-42ad-8334-0374c03b656a",
   "metadata": {},
   "outputs": [],
   "source": []
  }
 ],
 "metadata": {
  "kernelspec": {
   "display_name": "Python 3 (ipykernel)",
   "language": "python",
   "name": "python3"
  },
  "language_info": {
   "codemirror_mode": {
    "name": "ipython",
    "version": 3
   },
   "file_extension": ".py",
   "mimetype": "text/x-python",
   "name": "python",
   "nbconvert_exporter": "python",
   "pygments_lexer": "ipython3",
   "version": "3.10.18"
  }
 },
 "nbformat": 4,
 "nbformat_minor": 5
}
