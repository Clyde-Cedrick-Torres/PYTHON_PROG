{
 "cells": [
  {
   "cell_type": "markdown",
   "id": "2b828cf4-e207-4c87-a85d-db19c2ae7e75",
   "metadata": {},
   "source": [
    "# REVIEW QUESTION 2\n"
   ]
  },
  {
   "cell_type": "code",
   "execution_count": 6,
   "id": "d93957b9-201d-483d-8a57-d3514065e319",
   "metadata": {},
   "outputs": [
    {
     "name": "stdout",
     "output_type": "stream",
     "text": [
      "Milo is 5 years old\n",
      "Milo says bark\n"
     ]
    }
   ],
   "source": [
    "class Dog:\n",
    "    \n",
    "    def __init__(self, name, age):\n",
    "        self.name = name\n",
    "        self.age = age\n",
    "\n",
    "    def __str__(self):\n",
    "        return f\"{self.name} is {self.age} years old\"\n",
    "\n",
    "    def speak(self, sound):\n",
    "        return f\"{self.name} says {sound}\"\n",
    "\n",
    "Dawg = Dog(\"Milo\", 5)\n",
    "print(Dawg)\n",
    "print(Dawg.speak(\"bark\"))\n"
   ]
  },
  {
   "cell_type": "code",
   "execution_count": 9,
   "id": "a294c753-2447-4f47-91dd-c0a7ed02b5dc",
   "metadata": {},
   "outputs": [
    {
     "name": "stdout",
     "output_type": "stream",
     "text": [
      "Area of Square: 16\n"
     ]
    }
   ],
   "source": [
    "class Rectangle:\n",
    "    def __init__(self, length, width):\n",
    "        self.length = length\n",
    "        self.width = width\n",
    "\n",
    "    def area(self):\n",
    "        return self.length * self.width\n",
    "\n",
    "class Square(Rectangle):\n",
    "    def __init__(self, side_length):\n",
    "        super().__init__(side_length, side_length)\n",
    "\n",
    "my_square = Square(4)\n",
    "print(\"Area of Square:\", my_square.area())"
   ]
  },
  {
   "cell_type": "code",
   "execution_count": null,
   "id": "7f5cf686-7a70-485d-a185-c931fddeb0b4",
   "metadata": {},
   "outputs": [],
   "source": []
  }
 ],
 "metadata": {
  "kernelspec": {
   "display_name": "Python 3 (ipykernel)",
   "language": "python",
   "name": "python3"
  },
  "language_info": {
   "codemirror_mode": {
    "name": "ipython",
    "version": 3
   },
   "file_extension": ".py",
   "mimetype": "text/x-python",
   "name": "python",
   "nbconvert_exporter": "python",
   "pygments_lexer": "ipython3",
   "version": "3.10.18"
  }
 },
 "nbformat": 4,
 "nbformat_minor": 5
}
