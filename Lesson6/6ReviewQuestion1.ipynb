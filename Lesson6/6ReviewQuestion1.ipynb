{
 "cells": [
  {
   "cell_type": "markdown",
   "id": "c294e0be-a697-49f4-8ae8-93c129782a17",
   "metadata": {},
   "source": [
    "# REVIEW QUESTION 1\n"
   ]
  },
  {
   "cell_type": "code",
   "execution_count": 8,
   "id": "19d1ba1d-1c39-4706-a511-41519af475b0",
   "metadata": {},
   "outputs": [
    {
     "name": "stdout",
     "output_type": "stream",
     "text": [
      "Philo's coat is brown.\n"
     ]
    }
   ],
   "source": [
    "class Dog:\n",
    "    def __init__(self, name, age, coat_color):\n",
    "        self.name = name\n",
    "        self.age = age\n",
    "        self.coat_color = coat_color\n",
    "\n",
    "philo = Dog(\"Philo\", 6, \"brown\")\n",
    "print(f\"{philo.name}'s coat is {philo.coat_color}.\")"
   ]
  },
  {
   "cell_type": "code",
   "execution_count": 11,
   "id": "675cee64-cd7a-411a-9ad4-82fd69bc9e67",
   "metadata": {},
   "outputs": [
    {
     "name": "stdout",
     "output_type": "stream",
     "text": [
      "The blue car has  20,000 miles\n",
      "The red car has  30,000 miles\n"
     ]
    }
   ],
   "source": [
    "class Car:\n",
    "    def __init__(self, color, mileage):\n",
    "        self.color = color\n",
    "        self.mileage = mileage\n",
    "\n",
    "blue_car = Car(\"blue\", 20000)\n",
    "red_car = Car(\"red\", 30000)\n",
    "\n",
    "print(f\"The {blue_car.color} car has  {blue_car.mileage:,} miles\")\n",
    "print(f\"The {red_car.color} car has  {red_car.mileage:,} miles\")"
   ]
  },
  {
   "cell_type": "code",
   "execution_count": 12,
   "id": "fa235e20-c754-447d-aeeb-41add609fbc2",
   "metadata": {},
   "outputs": [
    {
     "name": "stdout",
     "output_type": "stream",
     "text": [
      "The green car now has 100 miles\n"
     ]
    }
   ],
   "source": [
    "class Car:\n",
    "    def __init__(self, color, mileage):\n",
    "        self.color = color\n",
    "        self.mileage = mileage\n",
    "\n",
    "    def drive(self, miles):\n",
    "        self.mileage += miles\n",
    "\n",
    "my_car = Car(\"green\", 0)\n",
    "\n",
    "my_car.drive(100)\n",
    "\n",
    "print(f\"The {my_car.color} car now has {my_car.mileage} miles\")\n"
   ]
  },
  {
   "cell_type": "code",
   "execution_count": null,
   "id": "4a8005a6-5333-4e98-a51a-fda9e0cd55f9",
   "metadata": {},
   "outputs": [],
   "source": []
  }
 ],
 "metadata": {
  "kernelspec": {
   "display_name": "Python 3 (ipykernel)",
   "language": "python",
   "name": "python3"
  },
  "language_info": {
   "codemirror_mode": {
    "name": "ipython",
    "version": 3
   },
   "file_extension": ".py",
   "mimetype": "text/x-python",
   "name": "python",
   "nbconvert_exporter": "python",
   "pygments_lexer": "ipython3",
   "version": "3.10.18"
  }
 },
 "nbformat": 4,
 "nbformat_minor": 5
}
