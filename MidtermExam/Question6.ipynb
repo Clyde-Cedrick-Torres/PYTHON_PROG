{
 "cells": [
  {
   "attachments": {},
   "cell_type": "markdown",
   "id": "032eae81-cab9-458d-b109-91dacee7ed1f",
   "metadata": {
    "editable": true,
    "slideshow": {
     "slide_type": ""
    },
    "tags": []
   },
   "source": [
    "# QUESTION 6 Dice Simulation\n",
    "TASK: Dice Simulation (Monte Carlo). Write roll() -> int to simulate a fair die,\n",
    "then simulate 100,000 rolls to estimate the probability that the sum of two dice\n",
    "equals 7. Compare empirical result to the exact probability. Comment on random\n",
    "seeding and reproducibility. Anchor concepts: random module, simulation, averages.\n",
    "Reference: :contentReference[oaicite:12]index=12\n",
    "\n",
    "\n",
    "# PROMPT (paste verbatim)\n",
    "Write roll() -> int using random to simulate a fair 6-sided die. Then simulate 100,000 trials of two dice, estimate probability the sum equals 7, print empirical vs exact (1/6), and mention random seeding for reproducibility.\n",
    "\n",
    "\n",
    "# CRITIQUE:\n",
    "Correctness: Empirical estimate is fine. Missing exact probability and error metric.\n",
    "\n",
    "Complexity: O(n) time; O(1) space.\n",
    "\n",
    "Robustness: No seeding option or function wrapper; side effects at import.\n",
    "\n",
    "Readability/Style: Needs functions, docstrings, and clear output.\n",
    "\n",
    "Lecture faithfulness: Should discuss seeding for reproducibility (e.g., random.seed(0)).\n"
   ]
  },
  {
   "cell_type": "code",
   "execution_count": 3,
   "id": "c2d760b0-26bf-43e6-9aa4-dab58cc9c887",
   "metadata": {
    "editable": true,
    "slideshow": {
     "slide_type": ""
    },
    "tags": []
   },
   "outputs": [
    {
     "name": "stdout",
     "output_type": "stream",
     "text": [
      "Trials: 100,000\n",
      "Number of 7s: 16,456\n",
      "Empirical probability: 0.16456\n",
      "Exact probability:     0.16667\n",
      "Difference:             0.00211\n"
     ]
    }
   ],
   "source": [
    "#IMPROVED CODE\n",
    "import random\n",
    "\n",
    "def roll() -> int:\n",
    "    \"\"\"Simulate rolling a fair 6-sided die and return an integer 1–6.\"\"\"\n",
    "    return random.randint(1, 6)\n",
    "\n",
    "\n",
    "def main() -> None:\n",
    "    \"\"\"\n",
    "    Simulate 100,000 trials of rolling two dice.\n",
    "    Estimate the probability that the sum equals 7.\n",
    "    Compare empirical vs exact probability (1/6 ≈ 0.1667).\n",
    "    Demonstrate seeding for reproducibility.\n",
    "    \"\"\"\n",
    "    random.seed(42)  # fixed seed for reproducible results\n",
    "\n",
    "    trials = 100_000\n",
    "    count_sum7 = 0\n",
    "\n",
    "    for _ in range(trials):\n",
    "        die1 = roll()\n",
    "        die2 = roll()\n",
    "        if die1 + die2 == 7:\n",
    "            count_sum7 += 1\n",
    "\n",
    "    empirical_prob = count_sum7 / trials\n",
    "    exact_prob = 1 / 6\n",
    "\n",
    "    print(f\"Trials: {trials:,}\")\n",
    "    print(f\"Number of 7s: {count_sum7:,}\")\n",
    "    print(f\"Empirical probability: {empirical_prob:.5f}\")\n",
    "    print(f\"Exact probability:     {exact_prob:.5f}\")\n",
    "    print(f\"Difference:             {abs(empirical_prob - exact_prob):.5f}\")\n",
    "\n",
    "\n",
    "if __name__ == \"__main__\":\n",
    "    main()\n"
   ]
  },
  {
   "cell_type": "code",
   "execution_count": 2,
   "id": "560632f3-2cf9-4147-946b-dc85807308fb",
   "metadata": {
    "editable": true,
    "slideshow": {
     "slide_type": ""
    },
    "tags": []
   },
   "outputs": [
    {
     "name": "stdout",
     "output_type": "stream",
     "text": [
      "0.16702\n"
     ]
    }
   ],
   "source": [
    "#CHATGPT CODE\n",
    "import random\n",
    "\n",
    "def roll():\n",
    "    return random.randint(1, 6)\n",
    "\n",
    "trials = 100000\n",
    "count = 0\n",
    "for _ in range(trials):\n",
    "    if roll() + roll() == 7:\n",
    "        count += 1\n",
    "print(count / trials)\n"
   ]
  },
  {
   "cell_type": "code",
   "execution_count": null,
   "id": "ddba4558-119a-4fe4-b089-9f7c1c497007",
   "metadata": {},
   "outputs": [],
   "source": []
  }
 ],
 "metadata": {
  "kernelspec": {
   "display_name": "Python 3 (ipykernel)",
   "language": "python",
   "name": "python3"
  },
  "language_info": {
   "codemirror_mode": {
    "name": "ipython",
    "version": 3
   },
   "file_extension": ".py",
   "mimetype": "text/x-python",
   "name": "python",
   "nbconvert_exporter": "python",
   "pygments_lexer": "ipython3",
   "version": "3.10.18"
  }
 },
 "nbformat": 4,
 "nbformat_minor": 5
}
