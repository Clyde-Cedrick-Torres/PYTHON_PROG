{
 "cells": [
  {
   "cell_type": "markdown",
   "id": "a5830207-b475-4eb8-a8ec-e846d7faaeec",
   "metadata": {
    "editable": true,
    "slideshow": {
     "slide_type": ""
    },
    "tags": []
   },
   "source": [
    "# QUESTION 10 Temperature Converter\n",
    "TASK: Robust Temperature Converter (Functions + Exceptions). Write two functions: cel_to_far(c) and far_to_cel(f) with type hints and docstrings. Build a\n",
    "CLI that asks the user which direction to convert and validates input (gracefully\n",
    "handles bad entries). Include unit tests (doctest or simple asserts) covering typical\n",
    "3\n",
    "and edge cases (e.g., -40). Anchor concepts: writing functions, control flow, input\n",
    "handling, testing\n",
    "\n",
    "# PROMPT\n",
    "Write cel_to_far(c: float) and far_to_cel(f: float) with docstrings + type hints. Add a CLI that asks which direction to convert, validates the number, and handles bad entries gracefully. Include doctests or asserts, covering -40.\n",
    "\n",
    "# CRITIQUE\n",
    "Correctness: Conversions are right. Input handling is not robust (no loops, no graceful error messages).\n",
    "\n",
    "Complexity: O(1).\n",
    "\n",
    "Robustness: Crashes on bad input; no doctests or asserts.\n",
    "\n",
    "Readability/Style: Missing type hints, docstrings, and CLI separation.\n",
    "\n",
    "Lecture faithfulness: Should show safe control flow, validation, and tests.\n",
    "\n"
   ]
  },
  {
   "cell_type": "code",
   "execution_count": 1,
   "id": "badc08f9-4f8a-4935-b5de-52c7f6267765",
   "metadata": {
    "editable": true,
    "slideshow": {
     "slide_type": ""
    },
    "tags": []
   },
   "outputs": [
    {
     "name": "stdin",
     "output_type": "stream",
     "text": [
      "Convert (C)elsius->Fahrenheit or (F)ahrenheit->Celsius? [C/F, Q to quit]:  C\n",
      "Enter the value:  21\n"
     ]
    },
    {
     "name": "stdout",
     "output_type": "stream",
     "text": [
      "21.0 °C = 69.80 °F\n"
     ]
    },
    {
     "name": "stdin",
     "output_type": "stream",
     "text": [
      "Convert (C)elsius->Fahrenheit or (F)ahrenheit->Celsius? [C/F, Q to quit]:  F\n",
      "Enter the value:  21\n"
     ]
    },
    {
     "name": "stdout",
     "output_type": "stream",
     "text": [
      "21.0 °F = -6.11 °C\n"
     ]
    },
    {
     "name": "stdin",
     "output_type": "stream",
     "text": [
      "Convert (C)elsius->Fahrenheit or (F)ahrenheit->Celsius? [C/F, Q to quit]:  Q\n"
     ]
    },
    {
     "name": "stdout",
     "output_type": "stream",
     "text": [
      "Goodbye.\n"
     ]
    }
   ],
   "source": [
    "#IMPROVED CODE\n",
    "def cel_to_far(c: float) -> float:\n",
    "    \"\"\"Convert Celsius to Fahrenheit.\n",
    "    >>> cel_to_far(-40)\n",
    "    -40.0\n",
    "    >>> round(cel_to_far(0), 2)\n",
    "    32.0\n",
    "    \"\"\"\n",
    "    return c * 9.0 / 5.0 + 32.0\n",
    "\n",
    "def far_to_cel(f: float) -> float:\n",
    "    \"\"\"Convert Fahrenheit to Celsius.\n",
    "    >>> far_to_cel(-40)\n",
    "    -40.0\n",
    "    >>> round(far_to_cel(212), 2)\n",
    "    100.0\n",
    "    \"\"\"\n",
    "    return (f - 32.0) * 5.0 / 9.0\n",
    "\n",
    "def cli() -> None:\n",
    "    \"\"\"Interactive converter with validation and graceful error messages.\"\"\"\n",
    "    while True:\n",
    "        choice = input(\"Convert (C)elsius->Fahrenheit or (F)ahrenheit->Celsius? [C/F, Q to quit]: \").strip().lower()\n",
    "        if choice == \"q\":\n",
    "            print(\"Goodbye.\")\n",
    "            return\n",
    "        if choice not in {\"c\", \"f\"}:\n",
    "            print(\"Please enter C, F, or Q.\")\n",
    "            continue\n",
    "        try:\n",
    "            val = float(input(\"Enter the value: \").strip())\n",
    "        except ValueError:\n",
    "            print(\"Invalid number, try again.\")\n",
    "            continue\n",
    "        if choice == \"c\":\n",
    "            out = cel_to_far(val)\n",
    "            print(f\"{val} °C = {out:.2f} °F\")\n",
    "        else:\n",
    "            out = far_to_cel(val)\n",
    "            print(f\"{val} °F = {out:.2f} °C\")\n",
    "\n",
    "if __name__ == \"__main__\":\n",
    "    import doctest\n",
    "    doctest.testmod()\n",
    "    # quick additional asserts\n",
    "    assert cel_to_far(-40) == -40\n",
    "    assert abs(far_to_cel(32) - 0.0) < 1e-12\n",
    "    cli()\n"
   ]
  },
  {
   "cell_type": "code",
   "execution_count": 2,
   "id": "b86fa978-e2b8-4014-a53b-055646c7b337",
   "metadata": {},
   "outputs": [
    {
     "name": "stdin",
     "output_type": "stream",
     "text": [
      "C or F?  F\n",
      "Value:  20\n"
     ]
    },
    {
     "name": "stdout",
     "output_type": "stream",
     "text": [
      "-6.666666666666667\n"
     ]
    }
   ],
   "source": [
    "#CHATGPT CODE\n",
    "def cel_to_far(c):\n",
    "    return c * 9/5 + 32\n",
    "\n",
    "def far_to_cel(f):\n",
    "    return (f - 32) * 5/9\n",
    "\n",
    "choice = input(\"C or F? \")\n",
    "val = float(input(\"Value: \"))\n",
    "if choice.lower() == \"c\":\n",
    "    print(cel_to_far(val))\n",
    "else:\n",
    "    print(far_to_cel(val))"
   ]
  },
  {
   "cell_type": "code",
   "execution_count": null,
   "id": "4856f6f2-ada8-43b4-ad50-9adbd46f5fab",
   "metadata": {},
   "outputs": [],
   "source": []
  }
 ],
 "metadata": {
  "kernelspec": {
   "display_name": "Python 3 (ipykernel)",
   "language": "python",
   "name": "python3"
  },
  "language_info": {
   "codemirror_mode": {
    "name": "ipython",
    "version": 3
   },
   "file_extension": ".py",
   "mimetype": "text/x-python",
   "name": "python",
   "nbconvert_exporter": "python",
   "pygments_lexer": "ipython3",
   "version": "3.10.18"
  }
 },
 "nbformat": 4,
 "nbformat_minor": 5
}
