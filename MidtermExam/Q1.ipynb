{
 "cells": [
  {
   "cell_type": "markdown",
   "id": "a9aa4dd6-b2d6-4380-a70d-b35aed1286ba",
   "metadata": {},
   "source": [
    "# Q1 STRING NORMALIZER & FINDER\n",
    "TASK: Write a function normalize_and_find(text: str, needle: str) -> int that: (1) trims whitespace on both ends, (2) converts to lowercase, then (3) returns the index of the first occurrence of needle using a safe search (return −1 if not found). Discuss alternatives (find vs. index), and how your choice affects error handling. Anchor concepts: stripping, case conversion, find/replace, string immutability. Reference: :contentReference[oaicite:6]index=6\n",
    "\n",
    "# PROMPT\n",
    "Write a Python function normalize_and_find(text, needle) that trims whitespace, converts both strings to lowercase, and returns the index of the first occurrence of needle inside text. If needle is not found, return -1.\n",
    "\n"
   ]
  },
  {
   "cell_type": "code",
   "execution_count": 1,
   "id": "141a4031-fb50-4c9c-b2d7-3eab04d6fc85",
   "metadata": {},
   "outputs": [
    {
     "name": "stdout",
     "output_type": "stream",
     "text": [
      "6\n"
     ]
    }
   ],
   "source": [
    "#CHATGPT CODE\n",
    "def normalize_and_find(text, needle):\n",
    "    text = text.strip().lower()\n",
    "    return text.find(needle.lower())\n",
    "\n",
    "# demo\n",
    "result = normalize_and_find(\"  Hello World  \", \"world\")\n",
    "print(result)  # -> 6\n",
    "\n"
   ]
  },
  {
   "cell_type": "markdown",
   "id": "f6d5af12-52ad-4dbc-9e2f-6113585463a6",
   "metadata": {},
   "source": [
    "# CRITIQUE\n",
    "Correctness: Works correctly — it trims spaces using .strip(), makes everything lowercase, and uses .find() to locate the substring.\n",
    "\n",
    "Complexity: Efficient — it runs in linear time O(n) since .find() scans the text once.\n",
    "\n",
    "Robustness: Doesn’t handle non-string inputs or None; would fail if text or needle is not a string.\n",
    "\n",
    "Readability: Clean and simple, but lacks documentation or comments explaining what it does.\n",
    "\n",
    "Faithfulness to lessons: Matches the examples from string manipulation lessons (using .strip(), .lower(), and .find()).\n"
   ]
  },
  {
   "cell_type": "code",
   "execution_count": 2,
   "id": "119d7179-07da-4263-9e6b-8623191a399c",
   "metadata": {},
   "outputs": [
    {
     "name": "stdout",
     "output_type": "stream",
     "text": [
      "6\n"
     ]
    }
   ],
   "source": [
    "#IMPROVED CODE\n",
    "def normalize_and_find(text: str, needle: str) -> int:\n",
    "    \"\"\"Trim whitespace, convert to lowercase, and safely find the first index of needle.\"\"\"\n",
    "    if not isinstance(text, str) or not isinstance(needle, str):\n",
    "        raise TypeError(\"Both inputs must be strings.\")\n",
    "    index = text.strip().lower().find(needle.lower())\n",
    "    return index\n",
    "\n",
    "\n",
    "result = normalize_and_find(\"  Hello World  \", \"world\")\n",
    "print(result)  "
   ]
  },
  {
   "cell_type": "code",
   "execution_count": null,
   "id": "14f680d1-e47e-4dff-909e-4e2ef807ab26",
   "metadata": {},
   "outputs": [],
   "source": []
  }
 ],
 "metadata": {
  "kernelspec": {
   "display_name": "Python 3 (ipykernel)",
   "language": "python",
   "name": "python3"
  },
  "language_info": {
   "codemirror_mode": {
    "name": "ipython",
    "version": 3
   },
   "file_extension": ".py",
   "mimetype": "text/x-python",
   "name": "python",
   "nbconvert_exporter": "python",
   "pygments_lexer": "ipython3",
   "version": "3.10.18"
  }
 },
 "nbformat": 4,
 "nbformat_minor": 5
}
