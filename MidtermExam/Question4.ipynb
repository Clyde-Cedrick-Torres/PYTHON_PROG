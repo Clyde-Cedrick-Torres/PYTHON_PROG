{
 "cells": [
  {
   "cell_type": "markdown",
   "id": "ac2fea17-ed0e-43ab-9921-82ab06d91e5a",
   "metadata": {
    "editable": true,
    "slideshow": {
     "slide_type": ""
    },
    "tags": []
   },
   "source": [
    "# QUESTION 4 Exponent CLI\n",
    "TASK: Exponent Tool & Input Validation. Create a CLI program exponent.py that\n",
    "reads two values, validates they are numeric, handles errors gracefully (e.g., ValueError),\n",
    "and prints a ** b with clear messages. Compare using try/except vs. pre-validation\n",
    "with str.isdigit() (and why isdigit() is insufficient for negatives/floats). Anchor concepts: arithmetic operators, exceptions, input. Reference: :contentReference[oaicite:9]index=9, :contentReference[oaicite:10]index=10\n",
    "\n",
    "\n",
    "# PROMPT (paste verbatim)\n",
    "Create a CLI exponent.py that reads two numbers (base and exponent), validates them, and prints base ** exponent. Handle errors gracefully (ValueError, overflow, 0**negative). Prefer try/except over str.isdigit() since isdigit() fails for negatives/floats. Allow passing numbers via argv or prompt interactively.\n",
    "\n",
    "\n",
    "\n",
    "# CRITIQUE\n",
    "Correctness:\n",
    "The program works as intended — it takes two user inputs, converts them to floats, computes base ** exponent, and displays the correct result.\n",
    "\n",
    "Efficiency:\n",
    "Efficient since exponentiation (**) is a built-in operation and executes quickly.\n",
    "\n",
    "Robustness:\n",
    "Handles invalid numeric input using try and except, which prevents program crashes. However, it doesn’t handle very large exponents (which could cause an overflow).\n",
    "\n",
    "Readability:\n",
    "Easy to read and well-formatted. The try/except structure makes the code clear \n",
    "\n",
    "Faithfulness to Lessons:\n",
    "Matches your lessons on input handling, type conversion, and exception handling."
   ]
  },
  {
   "cell_type": "code",
   "execution_count": 2,
   "id": "8d948992-c000-42c0-b292-3430ba817b0b",
   "metadata": {
    "editable": true,
    "slideshow": {
     "slide_type": ""
    },
    "tags": []
   },
   "outputs": [
    {
     "name": "stdin",
     "output_type": "stream",
     "text": [
      "Enter the base number:  5\n",
      "Enter the exponent:  3\n"
     ]
    },
    {
     "name": "stdout",
     "output_type": "stream",
     "text": [
      "5.0 raised to the power of 3.0 is 125.00\n"
     ]
    }
   ],
   "source": [
    "#IMPROVED CODE\n",
    "def exponent_calculator():\n",
    "    \"\"\"\n",
    "    Ask the user for a base and an exponent, then print the result of base ** exponent.\n",
    "    Handles invalid inputs gracefully.\n",
    "    \"\"\"\n",
    "    try:\n",
    "        base = float(input(\"Enter the base number: \"))\n",
    "        exponent = float(input(\"Enter the exponent: \"))\n",
    "        result = base ** exponent\n",
    "        print(f\"{base} raised to the power of {exponent} is {result:.2f}\")\n",
    "    except ValueError:\n",
    "        print(\"Error: Please enter valid numeric values only.\")\n",
    "\n",
    "exponent_calculator()\n"
   ]
  },
  {
   "cell_type": "code",
   "execution_count": 3,
   "id": "16d39a9d-3873-4af2-a90a-7c2bc2b610ed",
   "metadata": {},
   "outputs": [
    {
     "name": "stdin",
     "output_type": "stream",
     "text": [
      "Enter the base number:  3\n",
      "Enter the exponent:  4\n"
     ]
    },
    {
     "name": "stdout",
     "output_type": "stream",
     "text": [
      "3.0 raised to the power of 4.0 is 81.0\n"
     ]
    }
   ],
   "source": [
    "#CHATGPT CODE\n",
    "try:\n",
    "    base = float(input(\"Enter the base number: \"))\n",
    "    exponent = float(input(\"Enter the exponent: \"))\n",
    "    result = base ** exponent\n",
    "    print(f\"{base} raised to the power of {exponent} is {result}\")\n",
    "except ValueError:\n",
    "    print(\"Invalid input! Please enter numbers only.\")"
   ]
  },
  {
   "cell_type": "code",
   "execution_count": null,
   "id": "e6173080-5077-41f9-a637-dded22cd6904",
   "metadata": {},
   "outputs": [],
   "source": []
  }
 ],
 "metadata": {
  "kernelspec": {
   "display_name": "Python 3 (ipykernel)",
   "language": "python",
   "name": "python3"
  },
  "language_info": {
   "codemirror_mode": {
    "name": "ipython",
    "version": 3
   },
   "file_extension": ".py",
   "mimetype": "text/x-python",
   "name": "python",
   "nbconvert_exporter": "python",
   "pygments_lexer": "ipython3",
   "version": "3.10.18"
  }
 },
 "nbformat": 4,
 "nbformat_minor": 5
}
