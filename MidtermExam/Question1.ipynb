{
 "cells": [
  {
   "cell_type": "markdown",
   "id": "a50e01ac-dd4e-4632-b41f-ad0e904fb9bd",
   "metadata": {
    "editable": true,
    "slideshow": {
     "slide_type": ""
    },
    "tags": []
   },
   "source": [
    "# QUESTION 1 STRING NORMALIZER & FINDER\n",
    "TASK: Write a function normalize_and_find(text:\n",
    "str, needle: str) -> int that: (1) trims whitespace on both ends, (2) converts to lowercase, then (3) returns the index of the first occurrence of needle using\n",
    "a safe search (return −1 if not found). Discuss alternatives (find vs. index), and\n",
    "how your choice affects error handling. Anchor concepts: stripping, case conversion,\n",
    "find/replace, string immutability. Reference: :contentReference[oaicite:6]index=6\n",
    "\n",
    "# PROMPT \n",
    "Write a Python function normalize_and_find(text, needle) that trims whitespace, converts both strings to lowercase, and returns the index of the first occurrence of needle inside text.\n",
    "If needle is not found, return -1.\n",
    "\n",
    "\n",
    "# CRITIQUE\n",
    "Correctness:\n",
    "Works correctly — it trims spaces using .strip(), makes everything lowercase, and uses .find() to locate the substring.\n",
    "\n",
    "Complexity:\n",
    "Efficient — it runs in linear time O(n) since .find() scans the text once.\n",
    "\n",
    "Robustness:\n",
    "Doesn’t handle non-string inputs or None; would fail if text or needle is not a string.\n",
    "\n",
    "Readability:\n",
    "Clean and simple, but lacks documentation or comments explaining what it does.\n",
    "\n",
    "Faithfulness to lessons:\n",
    "Matches the examples from string manipulation lessons (using .strip(), .lower(), and .find()).\n"
   ]
  },
  {
   "cell_type": "code",
   "execution_count": 2,
   "id": "9d3c7775-8239-4b29-864d-b62d88b78d8b",
   "metadata": {
    "editable": true,
    "slideshow": {
     "slide_type": ""
    },
    "tags": []
   },
   "outputs": [
    {
     "name": "stdout",
     "output_type": "stream",
     "text": [
      "6\n"
     ]
    }
   ],
   "source": [
    "#IMPROVED CODE\n",
    "def normalize_and_find(text: str, needle: str) -> int:\n",
    "    \"\"\"Trim whitespace, convert to lowercase, and safely find the first index of needle.\"\"\"\n",
    "    if not isinstance(text, str) or not isinstance(needle, str):\n",
    "        raise TypeError(\"Both inputs must be strings.\")\n",
    "    index = text.strip().lower().find(needle.lower())\n",
    "    return index\n",
    "\n",
    "\n",
    "result = normalize_and_find(\"  Hello World  \", \"world\")\n",
    "print(result)  "
   ]
  },
  {
   "cell_type": "code",
   "execution_count": 3,
   "id": "86e63b3c-e5b7-417a-8b02-1fe6cc3831b8",
   "metadata": {},
   "outputs": [
    {
     "name": "stdout",
     "output_type": "stream",
     "text": [
      "6\n"
     ]
    }
   ],
   "source": [
    "#CHATGPT CODE\n",
    "def normalize_and_find(text, needle):\n",
    "    text = text.strip().lower()\n",
    "    return text.find(needle.lower())\n",
    "\n",
    "# demo\n",
    "result = normalize_and_find(\"  Hello World  \", \"world\")\n",
    "print(result)  # -> 6"
   ]
  },
  {
   "cell_type": "code",
   "execution_count": null,
   "id": "13f6d875-5c59-483f-9302-9c86d081e5ea",
   "metadata": {
    "editable": true,
    "slideshow": {
     "slide_type": ""
    },
    "tags": []
   },
   "outputs": [],
   "source": []
  }
 ],
 "metadata": {
  "kernelspec": {
   "display_name": "Python 3 (ipykernel)",
   "language": "python",
   "name": "python3"
  },
  "language_info": {
   "codemirror_mode": {
    "name": "ipython",
    "version": 3
   },
   "file_extension": ".py",
   "mimetype": "text/x-python",
   "name": "python",
   "nbconvert_exporter": "python",
   "pygments_lexer": "ipython3",
   "version": "3.10.18"
  }
 },
 "nbformat": 4,
 "nbformat_minor": 5
}
