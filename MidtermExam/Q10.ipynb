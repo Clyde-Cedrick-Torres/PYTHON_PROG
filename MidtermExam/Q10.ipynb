{
 "cells": [
  {
   "cell_type": "markdown",
   "id": "3022bd2c-86c6-43b9-81cb-6348d2fea855",
   "metadata": {},
   "source": [
    "# Q10 Temperature Converter\n",
    "TASK: Robust Temperature Converter (Functions + Exceptions). Write two functions: cel_to_far(c) and far_to_cel(f) with type hints and docstrings. Build a CLI that asks the user which direction to convert and validates input (gracefully handles bad entries). Include unit tests (doctest or simple asserts) covering typical 3 and edge cases (e.g., -40). Anchor concepts: writing functions, control flow, input handling, testing\n",
    "\n",
    "# PROMPT\n",
    "Write cel_to_far(c: float) and far_to_cel(f: float) with docstrings + type hints. Add a CLI that asks which direction to convert, validates the number, and handles bad entries gracefully. Include doctests or asserts, covering -40.\n",
    "\n"
   ]
  },
  {
   "cell_type": "code",
   "execution_count": 1,
   "id": "55d485b6-2fdb-468d-b673-a4f20ced6897",
   "metadata": {},
   "outputs": [
    {
     "name": "stdin",
     "output_type": "stream",
     "text": [
      "C or F?  F\n",
      "Value:  21\n"
     ]
    },
    {
     "name": "stdout",
     "output_type": "stream",
     "text": [
      "-6.111111111111111\n"
     ]
    }
   ],
   "source": [
    "#CHATGPT CODE\n",
    "def cel_to_far(c):\n",
    "    return c * 9/5 + 32\n",
    "\n",
    "def far_to_cel(f):\n",
    "    return (f - 32) * 5/9\n",
    "\n",
    "choice = input(\"C or F? \")\n",
    "val = float(input(\"Value: \"))\n",
    "if choice.lower() == \"c\":\n",
    "    print(cel_to_far(val))\n",
    "else:\n",
    "    print(far_to_cel(val))\n"
   ]
  },
  {
   "cell_type": "markdown",
   "id": "035391ff-47d4-43fc-9dd0-33d561b4cf32",
   "metadata": {},
   "source": [
    "# CRITIQUE\n",
    "Complexity:\n",
    "\n",
    "The program is simple and efficient, using basic arithmetic and conditionals. It runs in constant time with no unnecessary loops or data structures.\n",
    "\n",
    "Robustness:\n",
    "\n",
    "Moderately robust. It doesn’t crash under normal inputs but lacks validation for invalid entries (like if the user types \"X\" or a non-numeric value). Adding input checks would improve reliability.\n",
    "\n",
    "Readability/Style:\n",
    "\n",
    "The code is clean and readable, with short functions and clear names. However, adding comments or formatted output (e.g., \"37°C = 98.6°F\") would make it more user-friendly.\n",
    "\n",
    "Lecture Faithfulness: — it correctly applies concepts from the lecture such as functions, input/output, conditional logic, and basic arithmetic operations.\n",
    "\n",
    "\n"
   ]
  },
  {
   "cell_type": "code",
   "execution_count": 2,
   "id": "5071ec87-99a6-49de-8943-5b779ff780b4",
   "metadata": {},
   "outputs": [
    {
     "name": "stdin",
     "output_type": "stream",
     "text": [
      "Convert (C)elsius->Fahrenheit or (F)ahrenheit->Celsius? [C/F, Q to quit]:  C\n",
      "Enter the value:  21\n"
     ]
    },
    {
     "name": "stdout",
     "output_type": "stream",
     "text": [
      "21.0 °C = 69.80 °F\n"
     ]
    },
    {
     "name": "stdin",
     "output_type": "stream",
     "text": [
      "Convert (C)elsius->Fahrenheit or (F)ahrenheit->Celsius? [C/F, Q to quit]:  F\n",
      "Enter the value:  15\n"
     ]
    },
    {
     "name": "stdout",
     "output_type": "stream",
     "text": [
      "15.0 °F = -9.44 °C\n"
     ]
    },
    {
     "name": "stdin",
     "output_type": "stream",
     "text": [
      "Convert (C)elsius->Fahrenheit or (F)ahrenheit->Celsius? [C/F, Q to quit]:  Q\n"
     ]
    },
    {
     "name": "stdout",
     "output_type": "stream",
     "text": [
      "Goodbye.\n"
     ]
    }
   ],
   "source": [
    "#IMPROVED CODE\n",
    "def cel_to_far(c: float) -> float:\n",
    "    \"\"\"Convert Celsius to Fahrenheit.\n",
    "    >>> cel_to_far(-40)\n",
    "    -40.0\n",
    "    >>> round(cel_to_far(0), 2)\n",
    "    32.0\n",
    "    \"\"\"\n",
    "    return c * 9.0 / 5.0 + 32.0\n",
    "\n",
    "def far_to_cel(f: float) -> float:\n",
    "    \"\"\"Convert Fahrenheit to Celsius.\n",
    "    >>> far_to_cel(-40)\n",
    "    -40.0\n",
    "    >>> round(far_to_cel(212), 2)\n",
    "    100.0\n",
    "    \"\"\"\n",
    "    return (f - 32.0) * 5.0 / 9.0\n",
    "\n",
    "def cli() -> None:\n",
    "    \"\"\"Interactive converter with validation and graceful error messages.\"\"\"\n",
    "    while True:\n",
    "        choice = input(\"Convert (C)elsius->Fahrenheit or (F)ahrenheit->Celsius? [C/F, Q to quit]: \").strip().lower()\n",
    "        if choice == \"q\":\n",
    "            print(\"Goodbye.\")\n",
    "            return\n",
    "        if choice not in {\"c\", \"f\"}:\n",
    "            print(\"Please enter C, F, or Q.\")\n",
    "            continue\n",
    "        try:\n",
    "            val = float(input(\"Enter the value: \").strip())\n",
    "        except ValueError:\n",
    "            print(\"Invalid number, try again.\")\n",
    "            continue\n",
    "        if choice == \"c\":\n",
    "            out = cel_to_far(val)\n",
    "            print(f\"{val} °C = {out:.2f} °F\")\n",
    "        else:\n",
    "            out = far_to_cel(val)\n",
    "            print(f\"{val} °F = {out:.2f} °C\")\n",
    "\n",
    "if __name__ == \"__main__\":\n",
    "    import doctest\n",
    "    doctest.testmod()\n",
    "    # quick additional asserts\n",
    "    assert cel_to_far(-40) == -40\n",
    "    assert abs(far_to_cel(32) - 0.0) < 1e-12\n",
    "    cli()\n"
   ]
  },
  {
   "cell_type": "code",
   "execution_count": null,
   "id": "ab0bcb69-f3e4-476a-b92e-8e02250220ac",
   "metadata": {},
   "outputs": [],
   "source": []
  }
 ],
 "metadata": {
  "kernelspec": {
   "display_name": "Python 3 (ipykernel)",
   "language": "python",
   "name": "python3"
  },
  "language_info": {
   "codemirror_mode": {
    "name": "ipython",
    "version": 3
   },
   "file_extension": ".py",
   "mimetype": "text/x-python",
   "name": "python",
   "nbconvert_exporter": "python",
   "pygments_lexer": "ipython3",
   "version": "3.10.18"
  }
 },
 "nbformat": 4,
 "nbformat_minor": 5
}
