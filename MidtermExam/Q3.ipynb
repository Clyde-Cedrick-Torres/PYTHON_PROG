{
 "cells": [
  {
   "cell_type": "markdown",
   "id": "8eec8c40-3e87-4ea7-a386-ff308bc38a63",
   "metadata": {},
   "source": [
    "# Q3 Currency Formatter\n",
    "TASK: Currency Formatter & Rounding Ties-to-Even. Write fmt_money(x: float) -> str that returns a string like 1,234.50 using proper rounding (banker’s rounding / ties-to-even). Include test cases that demonstrate ties (e.g., 2.5, 3.5). Explain 2 floating-point representation error and how formatting mitigates it for display. Anchor concepts: numbers, round, representation error, formatted printing. Reference: :contentReference[oaicite:8]index=8\n",
    "\n",
    "\n",
    "# PROMPT\n",
    "Write fmt_money(x: float) -> str that formats with thousands separators and two decimals using banker’s rounding (ties-to-even). Avoid float rounding pitfalls. Include tests that show ties (e.g., 2.345 vs 2.355) and the classic 2.675 case."
   ]
  },
  {
   "cell_type": "code",
   "execution_count": 1,
   "id": "37f10ead-d6f3-4542-9001-c1574faacc3c",
   "metadata": {},
   "outputs": [
    {
     "name": "stdout",
     "output_type": "stream",
     "text": [
      "1,234.50\n",
      "2.67\n"
     ]
    }
   ],
   "source": [
    "#CHATGPT CODE\n",
    "def fmt_money(x):\n",
    "    \n",
    "    return f\"{round(x, 2):,.2f}\"\n",
    "\n",
    "print(fmt_money(1234.5))\n",
    "print(fmt_money(2.675))\n",
    "\n"
   ]
  },
  {
   "cell_type": "markdown",
   "id": "faca7bd9-e973-4984-8d4f-5526a90f0348",
   "metadata": {},
   "source": [
    "# CRITIQUE \n",
    "Correctness: Python’s round is half‑even, but binary float representation can give surprising results (e.g., round(2.675, 2) → 2.67).\n",
    "\n",
    "Complexity: O(1).\n",
    "\n",
    "Robustness: No handling for non-numeric inputs.\n",
    "\n",
    "Readability/Style: Add type hints, docstring, and tests.\n",
    "\n",
    "Lecture faithfulness: Should address representation error explicitly (use Decimal(str(x))) and format\n",
    "\n",
    "\n",
    "\n",
    "# FLOATING POINT NUMBERS\n",
    "\n",
    "Floating‑point numbers in Python use IEEE‑754 binary, so many simple decimal fractions (like 0.1 or 2.675) cannot be represented exactly. Those tiny representation gaps can accumulate or surface when you add, compare, or round, producing results like 0.1 + 0.2 == 0.30000000000000004. Python’s round implements ties‑to‑even, but because the stored value may be slightly below the intuitive decimal, a value that looks halfway can round down (e.g., round(2.675, 2) → 2.67). For user‑facing output, formatted printing hides harmless noise by constraining what you display, such as using f\"{x:.2f}\" or f\"{x:,.2f}\". When you require decimal‑exact behavior—especially in finance—construct Decimal from strings and quantize to the needed precision with a clear rounding rule like ROUND_HALF_EVEN. This combination—understanding binary representation, using round appropriately, and formatting or Decimal for display—meets the midterm’s emphasis on numbers, representation error, rounding, and formatted printing.\n"
   ]
  },
  {
   "cell_type": "code",
   "execution_count": 2,
   "id": "491bbda5-df41-4249-89d4-2de194aade26",
   "metadata": {},
   "outputs": [
    {
     "name": "stdout",
     "output_type": "stream",
     "text": [
      "1,234.50\n",
      "2.34\n",
      "2.36\n",
      "2.68\n",
      "\n",
      "Additional Tests:\n",
      "  Input: 150000       -> Output: 150,000.00    (Expected: 150,000.00)\n",
      "  Input: 1234567.895  -> Output: 1,234,567.90  (Expected: 1,234,567.90)\n",
      "  Input: '2.675'      -> Output: 2.68          (Expected: 2.68)\n",
      "  Input: Decimal('2.675') -> Output: 2.68          (Expected: 2.68)\n",
      "  Input: 0.005        -> Output: 0.00          (Expected: 0.00)\n",
      "  Input: 0.015        -> Output: 0.02          (Expected: 0.02)\n",
      "\n",
      "All tests passed successfully\n"
     ]
    }
   ],
   "source": [
    "#IMPROVED CODE\n",
    "from decimal import Decimal, ROUND_HALF_EVEN, InvalidOperation\n",
    "from typing import Union\n",
    "\n",
    "Number = Union[float, int, str, Decimal]\n",
    "\n",
    "\n",
    "def fmt_money(x: Number) -> str:\n",
    "    \"\"\"\n",
    "    Format a number with thousands separators and two decimal places,\n",
    "    using banker's rounding (ties-to-even).\n",
    "\n",
    "    - Accepts float, int, Decimal, or numeric string.\n",
    "    - Converts input to Decimal using its string representation to avoid\n",
    "      float rounding artifacts.\n",
    "    - Returns a formatted string like '1,234.56'.\n",
    "    \"\"\"\n",
    "    # Safe Decimal conversion\n",
    "    if isinstance(x, Decimal):\n",
    "        d = x\n",
    "    else:\n",
    "        try:\n",
    "            d = Decimal(str(x))\n",
    "        except (InvalidOperation, ValueError, TypeError):\n",
    "            raise TypeError(\"Input must be a number or numeric string.\")\n",
    "\n",
    "    # Banker's rounding to two decimals\n",
    "    rounded = d.quantize(Decimal(\"0.01\"), rounding=ROUND_HALF_EVEN)\n",
    "    return f\"{rounded:,.2f}\"\n",
    "\n",
    "\n",
    "def main() -> None:\n",
    "    \"\"\"Print formatted currency strings for four example inputs.\n",
    "       Prints four formatted examples using ties-to-even rounding.\n",
    "    \"\"\"\n",
    "    # Silent tests (assertions)\n",
    "    assert fmt_money(1234.5) == \"1,234.50\"\n",
    "    assert fmt_money(2.345) == \"2.34\"\n",
    "    assert fmt_money(2.355) == \"2.36\"\n",
    "    assert fmt_money(2.675) == \"2.68\"\n",
    "\n",
    "    print(fmt_money(1234.5))\n",
    "    print(fmt_money(2.345))\n",
    "    print(fmt_money(2.355))\n",
    "    print(fmt_money(2.675))\n",
    "\n",
    "\n",
    "if __name__ == \"__main__\":\n",
    "    main()\n",
    "\n",
    "    # --- Additional demonstration tests ---\n",
    "    print(\"\\nAdditional Tests:\")\n",
    "    examples = [\n",
    "        (150000, \"150,000.00\"),       # thousands separator\n",
    "        (1234567.895, \"1,234,567.90\"),\n",
    "        (\"2.675\", \"2.68\"),            # string input\n",
    "        (Decimal(\"2.675\"), \"2.68\"),   # Decimal input\n",
    "        (0.005, \"0.00\"),              # ties-to-even (5 -> even)\n",
    "        (0.015, \"0.02\"),              # ties-to-even (1 -> odd)\n",
    "    ]\n",
    "\n",
    "    for val, expected in examples:\n",
    "        out = fmt_money(val)\n",
    "        print(f\"  Input: {val!r:12} -> Output: {out:12}  (Expected: {expected})\")\n",
    "        assert out.endswith(expected), f\"Expected {expected}, got {out}\"\n",
    "\n",
    "    print(\"\\nAll tests passed successfully\")\n"
   ]
  },
  {
   "cell_type": "code",
   "execution_count": null,
   "id": "bd91e079-81ef-4c99-a656-8d016e046a41",
   "metadata": {},
   "outputs": [],
   "source": []
  }
 ],
 "metadata": {
  "kernelspec": {
   "display_name": "Python 3 (ipykernel)",
   "language": "python",
   "name": "python3"
  },
  "language_info": {
   "codemirror_mode": {
    "name": "ipython",
    "version": 3
   },
   "file_extension": ".py",
   "mimetype": "text/x-python",
   "name": "python",
   "nbconvert_exporter": "python",
   "pygments_lexer": "ipython3",
   "version": "3.10.18"
  }
 },
 "nbformat": 4,
 "nbformat_minor": 5
}
