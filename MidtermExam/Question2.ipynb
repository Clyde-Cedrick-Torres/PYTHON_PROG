{
 "cells": [
  {
   "cell_type": "markdown",
   "id": "a219b126-bee2-47c0-a38e-fbee49b72407",
   "metadata": {
    "editable": true,
    "slideshow": {
     "slide_type": ""
    },
    "tags": []
   },
   "source": [
    "# QUESTION 2 Leetspeak Translator\n",
    "TASK: Leetspeak Translator (Parametric). Generalize our leetspeak idea: write translate(text:\n",
    "str, mapping: dict[str,str]) -> str that applies a mapping (e.g., {’a’:’4’,’e’:’3’,...})\n",
    "over lowercase letters only, leaving others unchanged. Explain why strings are immutable and show an efficient approach (e.g., list join vs. repeated concatenation).\n",
    "Anchor concepts: replace, iteration strategies, efficiency. Reference: :contentReference[oaicite:7]index=7\n",
    "\n",
    "# PROMPT (paste verbatim)\n",
    "Create a Python function named leetspeak(text) that takes a string and replaces certain letters with numbers or symbols to mimic “leet speak.”\n",
    "Use the following mapping: \n",
    "a → 4\n",
    "e → 3\n",
    "s → 5\n",
    "o → 0\n",
    "t → 7\n",
    "\n",
    "\n",
    "# CRITIQUE\n",
    "Correctness:\n",
    "The function correctly applies .replace() for each letter. It accurately converts a normal string into leetspeak form (e.g., \"Leet\"  \"L337\").\n",
    "\n",
    "Efficiency:\n",
    "Reasonably efficient for short text, but each .replace() call creates a new string, so performance decreases for very long inputs.\n",
    "\n",
    "Robustness:\n",
    "It assumes input is always a string; passing a number or None will cause an error.\n",
    "It also doesn’t handle uppercase letters (e.g., \"A\" remains \"A\").\n",
    "\n",
    "Readability:\n",
    "Easy to read, straightforward logic. A short comment or docstring would make it clearer for others.\n",
    "\n",
    "Faithfulness to Lessons:\n",
    "Matches the class lessons on using string methods like .replace() and simple text manipulation.\n",
    "\n",
    "\n",
    "\n",
    "STRING IMMUTABILITY\n",
    "\n",
    "In Python, a string never changes “in place.” Any operation that looks like modification (e.g., +=, slicing, replace) actually creates a new string object. This design has practical benefits:\n",
    "\n",
    "Hashability for dict/set keys.\n",
    "If a string could change after you used it as a dictionary key, its hash would change and the dict would break. Immutability guarantees stable hashes, so strings are safe keys.\n",
    "\n",
    "Safety & simpler reasoning.\n",
    "Functions can pass strings around without worrying that another part of the program will mutate them unexpectedly.\n",
    "\n",
    "Performance opportunities like interning/caching.\n",
    "The interpreter can safely reuse identical string objects (interning) because they can’t be altered later.\n",
    "\n",
    "Thread-friendliness & sharing.\n",
    "Read‑only data structures can be shared without locks or defensive copies.\n"
   ]
  },
  {
   "cell_type": "code",
   "execution_count": 6,
   "id": "64828b55-d404-411b-ad7a-174683445449",
   "metadata": {
    "editable": true,
    "slideshow": {
     "slide_type": ""
    },
    "tags": []
   },
   "outputs": [
    {
     "name": "stdout",
     "output_type": "stream",
     "text": [
      "L337 7R4N5L470R 7357\n",
      "l337 7r4n5l470r 7357\n"
     ]
    }
   ],
   "source": [
    "#IMPROVED CODE\n",
    "def leetspeak(text: str) -> str:\n",
    "    \"\"\"\n",
    "    Convert the given text into leetspeak by replacing certain letters\n",
    "    with numbers or symbols. Handles both lowercase and uppercase letters.\n",
    "    \"\"\"\n",
    "    if not isinstance(text, str):\n",
    "        raise TypeError(\"Input must be a string.\")\n",
    "\n",
    "    mapping = {\n",
    "        \"a\": \"4\", \"A\": \"4\",\n",
    "        \"e\": \"3\", \"E\": \"3\",\n",
    "        \"s\": \"5\", \"S\": \"5\",\n",
    "        \"o\": \"0\", \"O\": \"0\",\n",
    "        \"t\": \"7\", \"T\": \"7\"\n",
    "    }\n",
    "\n",
    "    result = \"\"\n",
    "    for char in text:\n",
    "        result += mapping.get(char, char)\n",
    "    return result\n",
    "\n",
    "print(leetspeak(\"LEET TRANSLATOR TEST\"))\n",
    "print(leetspeak(\"leet translator test\"))\n"
   ]
  },
  {
   "cell_type": "code",
   "execution_count": 2,
   "id": "076d4edd-d19e-4f75-97ca-393ebd49451b",
   "metadata": {
    "editable": true,
    "slideshow": {
     "slide_type": ""
    },
    "tags": []
   },
   "outputs": [
    {
     "name": "stdout",
     "output_type": "stream",
     "text": [
      "L337 7r4n5l470r 7357\n"
     ]
    }
   ],
   "source": [
    "#CHATGPT CODE\n",
    "def leetspeak(text):\n",
    "    text = text.replace(\"a\", \"4\")\n",
    "    text = text.replace(\"e\", \"3\")\n",
    "    text = text.replace(\"s\", \"5\")\n",
    "    text = text.replace(\"o\", \"0\")\n",
    "    text = text.replace(\"t\", \"7\")\n",
    "    return text\n",
    "\n",
    "result = leetspeak(\"Leet translator test\")\n",
    "print(result)\n"
   ]
  },
  {
   "cell_type": "code",
   "execution_count": null,
   "id": "8cdab9df-3277-48cc-b9c1-384462037db7",
   "metadata": {},
   "outputs": [],
   "source": []
  }
 ],
 "metadata": {
  "kernelspec": {
   "display_name": "Python 3 (ipykernel)",
   "language": "python",
   "name": "python3"
  },
  "language_info": {
   "codemirror_mode": {
    "name": "ipython",
    "version": 3
   },
   "file_extension": ".py",
   "mimetype": "text/x-python",
   "name": "python",
   "nbconvert_exporter": "python",
   "pygments_lexer": "ipython3",
   "version": "3.10.18"
  }
 },
 "nbformat": 4,
 "nbformat_minor": 5
}
