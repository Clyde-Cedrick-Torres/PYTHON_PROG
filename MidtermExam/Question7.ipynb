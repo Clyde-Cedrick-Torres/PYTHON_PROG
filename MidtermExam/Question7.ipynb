{
 "cells": [
  {
   "cell_type": "markdown",
   "id": "978f329c-b332-43bf-96d0-04233ae4c7af",
   "metadata": {
    "editable": true,
    "slideshow": {
     "slide_type": ""
    },
    "tags": []
   },
   "source": [
    "# QUESTION 7 OOP Vehicles\n",
    "TASK: OOP: Vehicles with Odometer and Fuel. Design classes Vehicle (base),\n",
    "Car and Truck (children). Each has color, mileage, and fuel_liters. Provide\n",
    "drive(km, km_per_liter) which increments mileage and decreases fuel (never below 0) and refuel(liters). Show how inheritance avoids duplication and add\n",
    "a method override in Truck (e.g., different efficiency). Include a minimal test\n",
    "script. Anchor concepts: classes vs. instances, attributes, instance methods, inheritance/override. Reference: :contentReference[oaicite:13]index=13\n",
    "\n",
    "\n",
    "# PROMPT(paste verbatim)\n",
    "Design Vehicle with attributes color, mileage, fuel_liters. Methods: drive(km, km_per_liter) that consumes fuel and never lets fuel go below 0, and refuel(liters). Create Car and Truck subclasses; Truck should override drive to be less efficient (e.g., efficiency factor). Include a minimal test.\n",
    "\n",
    "\n",
    "\n",
    "# CRITIQUE\n",
    "Correctness: Can drive farther than fuel allows; fuel can go negative; no validation for negative inputs or zero efficiency.\n",
    "\n",
    "Complexity: O(1) per call.\n",
    "\n",
    "Robustness: No exceptions; susceptible to division by zero; floating drift not handled.\n",
    "\n",
    "Readability/Style: Missing type hints, docstrings, and tests.\n",
    "\n",
    "Lecture faithfulness: Needs explicit override behavior and demonstration of avoiding duplication via inheritance.\n",
    "\n"
   ]
  },
  {
   "cell_type": "code",
   "execution_count": 3,
   "id": "e47bc434-70f6-4b94-842f-00c62550becf",
   "metadata": {
    "editable": true,
    "slideshow": {
     "slide_type": ""
    },
    "tags": []
   },
   "outputs": [
    {
     "name": "stdout",
     "output_type": "stream",
     "text": [
      "Car drives 100 km @ 10 km/L\n",
      "Car mileage: 5100, Fuel left: 10.0 L\n",
      "\n",
      "Truck drives 100 km @ 10 km/L (less efficient)\n",
      "Truck mileage: 8100, Fuel left: 27.5 L\n",
      "\n",
      "Refueling truck by 10L...\n",
      " Refueled 10.0 liters. Fuel now: 37.5 L.\n"
     ]
    }
   ],
   "source": [
    "#IMPROVED CODE\n",
    "class Vehicle:\n",
    "    \"\"\"\n",
    "    Base class representing a vehicle with color, mileage, and fuel.\n",
    "    \"\"\"\n",
    "    def __init__(self, color: str, mileage: float, fuel_liters: float):\n",
    "        self.color = color\n",
    "        self.mileage = mileage\n",
    "        self.fuel_liters = fuel_liters\n",
    "\n",
    "    def drive(self, km: float, km_per_liter: float) -> None:\n",
    "        \"\"\"\n",
    "        Drive the vehicle a given distance.\n",
    "        Consumes fuel based on km_per_liter, but fuel never goes below 0.\n",
    "        \"\"\"\n",
    "        fuel_needed = km / km_per_liter\n",
    "        if fuel_needed > self.fuel_liters:\n",
    "            # Drive only as far as fuel allows\n",
    "            possible_km = self.fuel_liters * km_per_liter\n",
    "            self.mileage += possible_km\n",
    "            self.fuel_liters = 0\n",
    "            print(f\" Ran out of fuel after driving {possible_km:.1f} km.\")\n",
    "        else:\n",
    "            self.mileage += km\n",
    "            self.fuel_liters -= fuel_needed\n",
    "\n",
    "    def refuel(self, liters: float) -> None:\n",
    "        \"\"\"Add the specified liters of fuel to the tank.\"\"\"\n",
    "        if liters > 0:\n",
    "            self.fuel_liters += liters\n",
    "            print(f\" Refueled {liters:.1f} liters. Fuel now: {self.fuel_liters:.1f} L.\")\n",
    "        else:\n",
    "            print(\"Invalid refuel amount!\")\n",
    "\n",
    "\n",
    "class Car(Vehicle):\n",
    "    \"\"\"A standard car that inherits drive behavior from Vehicle.\"\"\"\n",
    "    pass\n",
    "\n",
    "\n",
    "class Truck(Vehicle):\n",
    "    \"\"\"\n",
    "    A truck that is less fuel efficient than a car.\n",
    "    Overrides drive() to consume more fuel.\n",
    "    \"\"\"\n",
    "    EFFICIENCY_FACTOR = 0.8  # trucks are 20% less efficient\n",
    "\n",
    "    def drive(self, km: float, km_per_liter: float) -> None:\n",
    "        adjusted_efficiency = km_per_liter * self.EFFICIENCY_FACTOR\n",
    "        super().drive(km, adjusted_efficiency)\n",
    "\n",
    "\n",
    "# --- Minimal test ---\n",
    "if __name__ == \"__main__\":\n",
    "    car = Car(\"red\", mileage=5000, fuel_liters=20)\n",
    "    truck = Truck(\"blue\", mileage=8000, fuel_liters=40)\n",
    "\n",
    "    print(\"Car drives 100 km @ 10 km/L\")\n",
    "    car.drive(100, 10)\n",
    "    print(f\"Car mileage: {car.mileage}, Fuel left: {car.fuel_liters:.1f} L\\n\")\n",
    "\n",
    "    print(\"Truck drives 100 km @ 10 km/L (less efficient)\")\n",
    "    truck.drive(100, 10)\n",
    "    print(f\"Truck mileage: {truck.mileage}, Fuel left: {truck.fuel_liters:.1f} L\\n\")\n",
    "\n",
    "    print(\"Refueling truck by 10L...\")\n",
    "    truck.refuel(10)\n"
   ]
  },
  {
   "cell_type": "code",
   "execution_count": 4,
   "id": "32b17868-6073-49fd-a263-88ae5533143b",
   "metadata": {
    "editable": true,
    "slideshow": {
     "slide_type": ""
    },
    "tags": []
   },
   "outputs": [
    {
     "name": "stdout",
     "output_type": "stream",
     "text": [
      " Refueled 20.0 liters. Fuel now: 50.0 L.\n",
      " Refueled 30.0 liters. Fuel now: 97.5 L.\n",
      "Car:\n",
      "Color: Red\n",
      "Mileage: 10100 km\n",
      "Fuel left: 50.00 liters\n",
      "\n",
      "Truck:\n",
      "Color: Blue\n",
      "Mileage: 5100 km\n",
      "Fuel left: 97.50 liters\n"
     ]
    }
   ],
   "source": [
    "#CHATGPT CODE\n",
    "my_car = Car(\"Red\", 10000, 40)\n",
    "my_truck = Truck(\"Blue\", 5000, 80)\n",
    "\n",
    "# Drive both vehicles\n",
    "my_car.drive(100, 10)    # 100 km at 10 km/l → uses 10 liters\n",
    "my_truck.drive(100, 10)  # 100 km at 10 km/l → adjusted to 8 km/l → uses 12.5 liters\n",
    "\n",
    "# Refuel both\n",
    "my_car.refuel(20)\n",
    "my_truck.refuel(30)\n",
    "\n",
    "# Print final states\n",
    "print(\"Car:\")\n",
    "print(f\"Color: {my_car.color}\")\n",
    "print(f\"Mileage: {my_car.mileage} km\")\n",
    "print(f\"Fuel left: {my_car.fuel_liters:.2f} liters\\n\")\n",
    "\n",
    "print(\"Truck:\")\n",
    "print(f\"Color: {my_truck.color}\")\n",
    "print(f\"Mileage: {my_truck.mileage} km\")\n",
    "print(f\"Fuel left: {my_truck.fuel_liters:.2f} liters\")\n",
    "\n"
   ]
  },
  {
   "cell_type": "code",
   "execution_count": null,
   "id": "56e39e65-3e23-44e9-b8fa-d3196c7abbda",
   "metadata": {},
   "outputs": [],
   "source": []
  }
 ],
 "metadata": {
  "kernelspec": {
   "display_name": "Python 3 (ipykernel)",
   "language": "python",
   "name": "python3"
  },
  "language_info": {
   "codemirror_mode": {
    "name": "ipython",
    "version": 3
   },
   "file_extension": ".py",
   "mimetype": "text/x-python",
   "name": "python",
   "nbconvert_exporter": "python",
   "pygments_lexer": "ipython3",
   "version": "3.10.18"
  }
 },
 "nbformat": 4,
 "nbformat_minor": 5
}
