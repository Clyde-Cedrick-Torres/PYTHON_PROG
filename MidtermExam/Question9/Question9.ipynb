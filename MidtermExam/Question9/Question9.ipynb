{
 "cells": [
  {
   "cell_type": "markdown",
   "id": "64fc364f-d147-452b-84a6-8701cbca5bcb",
   "metadata": {
    "editable": true,
    "slideshow": {
     "slide_type": ""
    },
    "tags": []
   },
   "source": [
    "# QUESTION 9 Helpers Package\n",
    "TASK:  Modules and Packages: Helpers. Create a package helpers/ with modules\n",
    "string_utils.py (function shout(s) uppercases) and math_utils.py (function area(l,w)).\n",
    "Then a main.py that imports with both import ... as ... and from ...\n",
    "import .... Explain namespace collisions and why aliases help. Anchor concepts: modules, packages, import variations, namespaces. Reference: :contentReference[oaicite:15]index=15\n",
    "\n",
    "\n",
    "# PROMPT\n",
    "Create a helpers/ package with modules string_utils.py (shout) and math_utils.py (area). Add a main.py that demonstrates both “import ... as ...” and “from ... import ...”. Explain briefly how aliases prevent name collisions.\n",
    "\n",
    "\n",
    "# CRITIQUE\n",
    "Correctness: Works conceptually but missing helpers/__init__.py to mark the package (depending on environment). No types/docstrings.\n",
    "\n",
    "Complexity: O(1).\n",
    "\n",
    "Robustness: No guard in main.py.\n",
    "\n",
    "Readability/Style: Add docstrings and if __name__ == \"__main__\":.\n",
    "\n",
    "Lecture faithfulness: Demonstrates both import styles; should note aliasing avoids area conflicts with other modules.\n",
    "\n",
    "\n",
    "\n",
    "Explain Namespace Collisions\n",
    "Namespace collisions (brief): aliasing (e.g., import helpers.string_utils as su) prevents names like area from clashing with functions from other modules (or local variables). It also improves readability and discoverability.\n",
    "\n"
   ]
  },
  {
   "cell_type": "code",
   "execution_count": 1,
   "id": "453ebfee-89ac-48cb-9e19-3ddd401fe9a8",
   "metadata": {
    "editable": true,
    "slideshow": {
     "slide_type": ""
    },
    "tags": []
   },
   "outputs": [
    {
     "name": "stdout",
     "output_type": "stream",
     "text": [
      "HELLO\n",
      "12\n"
     ]
    }
   ],
   "source": [
    "import helpers.string_utils as su\n",
    "from helpers.math_utils import area\n",
    "\n",
    "print(su.shout(\"hello\"))\n",
    "print(area(3, 4))"
   ]
  },
  {
   "cell_type": "code",
   "execution_count": 2,
   "id": "5f700a0e-c2a2-4102-97cd-4580e163fd3f",
   "metadata": {
    "editable": true,
    "slideshow": {
     "slide_type": ""
    },
    "tags": []
   },
   "outputs": [
    {
     "name": "stdout",
     "output_type": "stream",
     "text": [
      "HELLO\n",
      "12\n"
     ]
    }
   ],
   "source": [
    "from helpers import string_utils as su          # alias avoids long dotted paths\n",
    "from helpers.math_utils import area            # import a single function\n",
    "\n",
    "def main() -> None:\n",
    "    print(su.shout(\"hello\"))\n",
    "    print(area(3, 4))\n",
    "\n",
    "if __name__ == \"__main__\":\n",
    "    main()"
   ]
  },
  {
   "cell_type": "code",
   "execution_count": null,
   "id": "b45d4c8c-42f4-4969-ba6e-c0a5af1863b7",
   "metadata": {
    "editable": true,
    "slideshow": {
     "slide_type": ""
    },
    "tags": []
   },
   "outputs": [],
   "source": []
  },
  {
   "cell_type": "code",
   "execution_count": null,
   "id": "9a79265e-9870-47e9-b00e-0cd4d38c2a94",
   "metadata": {},
   "outputs": [],
   "source": []
  }
 ],
 "metadata": {
  "kernelspec": {
   "display_name": "Python 3 (ipykernel)",
   "language": "python",
   "name": "python3"
  },
  "language_info": {
   "codemirror_mode": {
    "name": "ipython",
    "version": 3
   },
   "file_extension": ".py",
   "mimetype": "text/x-python",
   "name": "python",
   "nbconvert_exporter": "python",
   "pygments_lexer": "ipython3",
   "version": "3.10.18"
  }
 },
 "nbformat": 4,
 "nbformat_minor": 5
}
