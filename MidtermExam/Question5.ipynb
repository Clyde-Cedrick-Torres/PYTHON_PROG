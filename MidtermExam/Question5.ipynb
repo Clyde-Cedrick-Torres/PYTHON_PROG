{
 "cells": [
  {
   "cell_type": "markdown",
   "id": "bbf84b7d-1280-4a6c-b3c9-13c2eb54fb5e",
   "metadata": {
    "editable": true,
    "slideshow": {
     "slide_type": ""
    },
    "tags": []
   },
   "source": [
    "# QUESTION 5 Password Checker\n",
    "TASK: Password Policy Checker (If/Elif/Else + Loops). Implement check_password(pw:\n",
    "str) -> dict that validates: length ≥ 10, at least one uppercase, one lowercase,\n",
    "one digit, one symbol in !@#$%^&*, and no spaces. Return a dict of booleans per\n",
    "rule and an overall pass/fail. Include a loop that prompts until a valid password\n",
    "is entered (allow quit with Q/q). Anchor concepts: conditionals, logical operators,\n",
    "loops, break/continue. Reference: :contentReference[oaicite:11]index=11\n",
    "\n",
    "\n",
    "# PROMPT (paste verbatim)\n",
    "Implement check_password(pw) -> dict with rules: len>=10, at least one uppercase, one lowercase, one digit, one symbol in !@#$%^&*, and no spaces. Return booleans per rule and overall ok. Also write a loop that keeps prompting until a valid password is entered (allow Q/q to quit). Add a few tests\n",
    "\n",
    "\n",
    "\n",
    "# CRITIQUE\n",
    "Correctness: The rule checks are fine, but \"ok\" isn’t computed; always False.\n",
    "\n",
    "Complexity: Each any(...) is O(n); overall O(n).\n",
    "\n",
    "Robustness: No prompting loop; no type hints/docstring. Doesn’t treat tabs/newlines as spaces (should use isspace).\n",
    "\n",
    "Readability/Style: Needs clear messaging for which rules failed.\n",
    "\n",
    "Lecture faithfulness: Demonstrate loop control (continue) and boolean aggregation."
   ]
  },
  {
   "cell_type": "code",
   "execution_count": 11,
   "id": "214abeda-c6c7-4752-a019-edf365340a56",
   "metadata": {
    "editable": true,
    "slideshow": {
     "slide_type": ""
    },
    "tags": []
   },
   "outputs": [
    {
     "name": "stdin",
     "output_type": "stream",
     "text": [
      "Enter password (or Q to quit):  \"Clydeced1!\n"
     ]
    },
    {
     "name": "stdout",
     "output_type": "stream",
     "text": [
      "Password accepted!\n",
      "\n",
      "Testing:\n",
      "cly: {'length_ok': False, 'uppercase_ok': False, 'lowercase_ok': True, 'digit_ok': False, 'symbol_ok': False, 'no_space': True, 'overall_ok': False}\n",
      "clydecedri: {'length_ok': True, 'uppercase_ok': False, 'lowercase_ok': True, 'digit_ok': False, 'symbol_ok': False, 'no_space': True, 'overall_ok': False}\n",
      "Clydecedri: {'length_ok': True, 'uppercase_ok': True, 'lowercase_ok': True, 'digit_ok': False, 'symbol_ok': False, 'no_space': True, 'overall_ok': False}\n",
      "Clydeced1r: {'length_ok': True, 'uppercase_ok': True, 'lowercase_ok': True, 'digit_ok': True, 'symbol_ok': False, 'no_space': True, 'overall_ok': False}\n",
      "Clydeced1!: {'length_ok': True, 'uppercase_ok': True, 'lowercase_ok': True, 'digit_ok': True, 'symbol_ok': True, 'no_space': True, 'overall_ok': True}\n"
     ]
    }
   ],
   "source": [
    "#IMPROVED CODE\n",
    "def check_password(pw: str) -> dict:\n",
    "    \"\"\"\n",
    "    Check if a password meets the following rules:\n",
    "    - At least 10 characters long\n",
    "    - Contains at least one uppercase letter\n",
    "    - Contains at least one lowercase letter\n",
    "    - Contains at least one digit\n",
    "    - Contains at least one symbol from !@#$%^&*\n",
    "    - Contains no spaces\n",
    "    Returns a dictionary of rule results and overall validity.\n",
    "    \"\"\"\n",
    "    rules = {\n",
    "        \"length_ok\": len(pw) >= 10,\n",
    "        \"uppercase_ok\": any(ch.isupper() for ch in pw),\n",
    "        \"lowercase_ok\": any(ch.islower() for ch in pw),\n",
    "        \"digit_ok\": any(ch.isdigit() for ch in pw),\n",
    "        \"symbol_ok\": any(ch in \"!@#$%^&*\" for ch in pw),\n",
    "        \"no_space\": \" \" not in pw\n",
    "    }\n",
    "\n",
    "    rules[\"overall_ok\"] = all(rules.values())\n",
    "    return rules\n",
    "\n",
    "\n",
    "# Loop until valid password is entered\n",
    "while True:\n",
    "    pw = input(\"Enter password (or Q to quit): \")\n",
    "\n",
    "    if pw.lower() == \"q\":\n",
    "        print(\"Goodbye!\")\n",
    "        break\n",
    "\n",
    "    result = check_password(pw)\n",
    "\n",
    "    if result[\"overall_ok\"]:\n",
    "        print(\"Password accepted!\")\n",
    "        break\n",
    "    else:\n",
    "        print(\"Password not strong enough. Details:\")\n",
    "        for rule, ok in result.items():\n",
    "            if rule != \"overall_ok\":\n",
    "                print(f\"  {rule}: {'accepted' if ok else 'not accepted'}\")\n",
    "\n",
    "\n",
    "# --- Simple test cases ---\n",
    "print(\"\\nTesting:\")\n",
    "tests = [\n",
    "    \"cly\",                   # too short\n",
    "    \"clydecedri\",            # no uppercase, digit, symbol\n",
    "    \"Clydecedri\",            # no digit or symbol\n",
    "    \"Clydeced1r\",            # no symbol\n",
    "    \"Clydeced1!\",            # valid\n",
    "]\n",
    "\n",
    "for t in tests:\n",
    "    print(f\"{t}: {check_password(t)}\")\n",
    "\n"
   ]
  },
  {
   "cell_type": "code",
   "execution_count": 3,
   "id": "d943df9e-3d37-4d58-863d-2ec7e15b4038",
   "metadata": {},
   "outputs": [
    {
     "name": "stdout",
     "output_type": "stream",
     "text": [
      "Password: P@ssw0rd123\n",
      "length: True\n",
      "uppercase: True\n",
      "lowercase: True\n",
      "digit: True\n",
      "symbol: True\n",
      "no_space: True\n",
      "ok: False\n"
     ]
    }
   ],
   "source": [
    "#CHATGPT CODE\n",
    "def check_password(pw):\n",
    "    return {\n",
    "        \"length\": len(pw) >= 10,\n",
    "        \"uppercase\": any(c.isupper() for c in pw),\n",
    "        \"lowercase\": any(c.islower() for c in pw),\n",
    "        \"digit\": any(c.isdigit() for c in pw),\n",
    "        \"symbol\": any(c in \"!@#$%^&*\" for c in pw),\n",
    "        \"no_space\": \" \" not in pw,\n",
    "        \"ok\": False  \n",
    "    }\n",
    "\n",
    "\n",
    "password = \"P@ssw0rd123\"\n",
    "\n",
    " \n",
    "result = check_password(password)\n",
    "print(f\"Password: {password}\")\n",
    "for key, value in result.items():\n",
    "    print(f\"{key}: {value}\")\n",
    "\n",
    "\n"
   ]
  },
  {
   "cell_type": "code",
   "execution_count": null,
   "id": "6d3b6844-8015-4015-8d55-7e3e76dfe639",
   "metadata": {},
   "outputs": [],
   "source": []
  }
 ],
 "metadata": {
  "kernelspec": {
   "display_name": "Python 3 (ipykernel)",
   "language": "python",
   "name": "python3"
  },
  "language_info": {
   "codemirror_mode": {
    "name": "ipython",
    "version": 3
   },
   "file_extension": ".py",
   "mimetype": "text/x-python",
   "name": "python",
   "nbconvert_exporter": "python",
   "pygments_lexer": "ipython3",
   "version": "3.10.18"
  }
 },
 "nbformat": 4,
 "nbformat_minor": 5
}
