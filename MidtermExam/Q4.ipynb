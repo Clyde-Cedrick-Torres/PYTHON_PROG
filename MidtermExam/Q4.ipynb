{
 "cells": [
  {
   "cell_type": "markdown",
   "id": "988d293e-ee39-4286-9416-f2ae2b996b99",
   "metadata": {},
   "source": [
    "# Q4 Exponent CLI\n",
    "TASK: Exponent Tool & Input Validation. Create a CLI program exponent.py that reads two values, validates they are numeric, handles errors gracefully (e.g., ValueError), and prints a ** b with clear messages. Compare using try/except vs. pre-validation with str.isdigit() (and why isdigit() is insufficient for negatives/floats). Anchor concepts: arithmetic operators, exceptions, input. Reference: :contentReference[oaicite:9]index=9, :contentReference[oaicite:10]index=10\n",
    "\n",
    "\n",
    "# PROMPT\n",
    "Create a CLI exponent.py that reads two numbers (base and exponent), validates them, and prints base ** exponent. Handle errors gracefully (ValueError, overflow, 0**negative). Prefer try/except over str.isdigit() since isdigit() fails for negatives/floats. Allow passing numbers via argv or prompt interactively\n"
   ]
  },
  {
   "cell_type": "code",
   "execution_count": 1,
   "id": "23fbbb47-b6ac-460c-8a15-8d710d620fe6",
   "metadata": {},
   "outputs": [
    {
     "name": "stdin",
     "output_type": "stream",
     "text": [
      "Enter the base number:  20\n",
      "Enter the exponent:  112\n"
     ]
    },
    {
     "name": "stdout",
     "output_type": "stream",
     "text": [
      "20.0 raised to the power of 112.0 is 5.192296858534827e+145\n"
     ]
    }
   ],
   "source": [
    "#CHATGPT CODE\n",
    "try:\n",
    "    base = float(input(\"Enter the base number: \"))\n",
    "    exponent = float(input(\"Enter the exponent: \"))\n",
    "    result = base ** exponent\n",
    "    print(f\"{base} raised to the power of {exponent} is {result}\")\n",
    "except ValueError:\n",
    "    print(\"Invalid input! Please enter numbers only.\")\n"
   ]
  },
  {
   "cell_type": "markdown",
   "id": "0cfa3eda-e510-4121-933f-3d1cff0d4366",
   "metadata": {},
   "source": [
    "# CRITIQUE\n",
    "Correctness: The program works as intended — it takes two user inputs, converts them to floats, computes base ** exponent, and displays the correct result.\n",
    "\n",
    "Efficiency: Efficient since exponentiation (**) is a built-in operation and executes quickly.\n",
    "\n",
    "Robustness: Handles invalid numeric input using try and except, which prevents program crashes. However, it doesn’t handle very large exponents (which could cause an overflow).\n",
    "\n",
    "Readability: Easy to read and well-formatted. The try/except structure makes the code clear\n",
    "\n",
    "Faithfulness to Lessons: Matches your lessons on input handling, type conversion, and exception handling."
   ]
  },
  {
   "cell_type": "code",
   "execution_count": 2,
   "id": "0c338999-0c22-4bc1-a3ec-474294386b08",
   "metadata": {},
   "outputs": [
    {
     "name": "stdin",
     "output_type": "stream",
     "text": [
      "Enter the base number:  20\n",
      "Enter the exponent:  11\n"
     ]
    },
    {
     "name": "stdout",
     "output_type": "stream",
     "text": [
      "20.0 raised to the power of 11.0 is 204800000000000.00\n"
     ]
    }
   ],
   "source": [
    "#IMPROVED CODE\n",
    "def exponent_calculator():\n",
    "    \"\"\"\n",
    "    Ask the user for a base and an exponent, then print the result of base ** exponent.\n",
    "    Handles invalid inputs gracefully.\n",
    "    \"\"\"\n",
    "    try:\n",
    "        base = float(input(\"Enter the base number: \"))\n",
    "        exponent = float(input(\"Enter the exponent: \"))\n",
    "        result = base ** exponent\n",
    "        print(f\"{base} raised to the power of {exponent} is {result:.2f}\")\n",
    "    except ValueError:\n",
    "        print(\"Error: Please enter valid numeric values only.\")\n",
    "\n",
    "exponent_calculator()\n"
   ]
  },
  {
   "cell_type": "code",
   "execution_count": null,
   "id": "446fa324-5c7c-48eb-9d9c-e87b6d2f0116",
   "metadata": {},
   "outputs": [],
   "source": []
  }
 ],
 "metadata": {
  "kernelspec": {
   "display_name": "Python 3 (ipykernel)",
   "language": "python",
   "name": "python3"
  },
  "language_info": {
   "codemirror_mode": {
    "name": "ipython",
    "version": 3
   },
   "file_extension": ".py",
   "mimetype": "text/x-python",
   "name": "python",
   "nbconvert_exporter": "python",
   "pygments_lexer": "ipython3",
   "version": "3.10.18"
  }
 },
 "nbformat": 4,
 "nbformat_minor": 5
}
