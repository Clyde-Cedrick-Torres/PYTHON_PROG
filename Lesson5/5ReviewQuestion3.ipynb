{
 "cells": [
  {
   "cell_type": "markdown",
   "id": "a8a15988-0136-43c0-8664-afc2b80c6505",
   "metadata": {},
   "source": [
    "# REVIEW QUESTION 3\n"
   ]
  },
  {
   "cell_type": "code",
   "execution_count": 2,
   "id": "a53b4658-b74f-4d4b-afbb-ae1998fa28b9",
   "metadata": {},
   "outputs": [
    {
     "name": "stdout",
     "output_type": "stream",
     "text": [
      "((1, 2), (3, 4))\n"
     ]
    }
   ],
   "source": [
    "data = ((1, 2), (3, 4))\n",
    "print (data)"
   ]
  },
  {
   "cell_type": "code",
   "execution_count": 3,
   "id": "22a9eb24-db1a-4394-a6e8-7dc292b81cec",
   "metadata": {},
   "outputs": [
    {
     "name": "stdout",
     "output_type": "stream",
     "text": [
      "Row 1 sum: 3\n",
      "Row 2 sum: 7\n"
     ]
    }
   ],
   "source": [
    "row_num = 1\n",
    "for tupple in data:\n",
    "    print(f\"Row {row_num} sum:\", sum(tupple))\n",
    "    row_num += 1"
   ]
  },
  {
   "cell_type": "code",
   "execution_count": 4,
   "id": "24cfe8f9-fcd9-43f2-9a94-de8e0c29acc6",
   "metadata": {},
   "outputs": [
    {
     "name": "stdout",
     "output_type": "stream",
     "text": [
      "Copy of numbers: [5, 2, 9, 1, 7]\n"
     ]
    }
   ],
   "source": [
    "numbers = [5, 2, 9, 1, 7]\n",
    "numbers_copy = numbers[:]\n",
    "print(\"Copy of numbers:\", numbers_copy)"
   ]
  },
  {
   "cell_type": "code",
   "execution_count": 5,
   "id": "9b84c8f1-77a0-452a-af5a-05b00239c4eb",
   "metadata": {},
   "outputs": [
    {
     "name": "stdout",
     "output_type": "stream",
     "text": [
      "Sorted numbers: [1, 2, 5, 7, 9]\n"
     ]
    }
   ],
   "source": [
    "numbers.sort()\n",
    "print(\"Sorted numbers:\", numbers)"
   ]
  },
  {
   "cell_type": "markdown",
   "id": "dcf5ca07-1079-4e8e-9528-e5c6ea826c3d",
   "metadata": {},
   "source": [
    "# CHALLENGE LIST OF LISTS"
   ]
  },
  {
   "cell_type": "code",
   "execution_count": 6,
   "id": "806e426a-5c1a-4a3a-9984-52b4e426f9be",
   "metadata": {},
   "outputs": [
    {
     "name": "stdout",
     "output_type": "stream",
     "text": [
      "['California Institute of Technology', 2175, 37704]\n",
      "['Harvard', 19627, 39849]\n",
      "['Massachusetts Institute of Technology', 10566, 40732]\n",
      "['Princeton', 7802, 37000]\n",
      "['Rice', 5879, 35551]\n",
      "['Stanford', 19535, 40569]\n",
      "['Yale', 11701, 40500]\n"
     ]
    }
   ],
   "source": [
    "universities = [\n",
    "    ['California Institute of Technology', 2175, 37704],\n",
    "    ['Harvard', 19627, 39849],\n",
    "    ['Massachusetts Institute of Technology', 10566, 40732],\n",
    "    ['Princeton', 7802, 37000],\n",
    "    ['Rice', 5879, 35551],\n",
    "    ['Stanford', 19535, 40569],\n",
    "    ['Yale', 11701, 40500]\n",
    "]\n",
    "for university in universities:\n",
    "    print(university)\n"
   ]
  },
  {
   "cell_type": "markdown",
   "id": "71b4c7ad-ae84-450d-9ecf-2d1692db63ed",
   "metadata": {},
   "source": [
    "# CHALLENGE QUESTION WAX POETIC\n"
   ]
  },
  {
   "cell_type": "code",
   "execution_count": 7,
   "id": "55a9ac18-38d0-42ec-a3c2-61ea1d15d8be",
   "metadata": {},
   "outputs": [
    {
     "name": "stdout",
     "output_type": "stream",
     "text": [
      "Nouns: ['Fossil', 'Horse', 'Aardvark', 'Judge', 'Chef', 'Mango', 'Extrovert', 'Gorilla']\n",
      "Verbs: ['Kicks', 'Jingles', 'Bounces', 'Slurps', 'Meows', 'Explodes', 'Curdles']\n",
      "Adjectives: ['Furry', 'Balding', 'Incredulous', 'Fragrant', 'Exuberant', 'Glistening']\n",
      "Prepositions: ['Against', 'After', 'Into', 'Beneath', 'Upon', 'For', 'In', 'Like', 'Over', 'Within']\n",
      "Adverbs: ['Curiously', 'Furiously', 'Sensuously', 'Extravagantly', 'Tantalizingly']\n"
     ]
    }
   ],
   "source": [
    "nouns = [\"Fossil\", \"Horse\", \"Aardvark\", \"Judge\", \"Chef\", \"Mango\", \"Extrovert\", \"Gorilla\"]\n",
    "verbs = [\"Kicks\", \"Jingles\", \"Bounces\", \"Slurps\", \"Meows\", \"Explodes\", \"Curdles\"]\n",
    "adjectives = [\"Furry\", \"Balding\", \"Incredulous\", \"Fragrant\", \"Exuberant\", \"Glistening\"]\n",
    "prepositions = [\"Against\", \"After\", \"Into\", \"Beneath\", \"Upon\", \"For\", \"In\", \"Like\", \"Over\", \"Within\"]\n",
    "adverbs = [\"Curiously\", \"Furiously\", \"Sensuously\", \"Extravagantly\", \"Tantalizingly\"]\n",
    "\n",
    "\n",
    "print(\"Nouns:\", nouns)\n",
    "print(\"Verbs:\", verbs)\n",
    "print(\"Adjectives:\", adjectives)\n",
    "print(\"Prepositions:\", prepositions)\n",
    "print(\"Adverbs:\", adverbs)\n"
   ]
  },
  {
   "cell_type": "code",
   "execution_count": null,
   "id": "c3b4584a-e71f-40f8-8d72-30d4a3c5de0e",
   "metadata": {},
   "outputs": [],
   "source": []
  }
 ],
 "metadata": {
  "kernelspec": {
   "display_name": "Python 3 (ipykernel)",
   "language": "python",
   "name": "python3"
  },
  "language_info": {
   "codemirror_mode": {
    "name": "ipython",
    "version": 3
   },
   "file_extension": ".py",
   "mimetype": "text/x-python",
   "name": "python",
   "nbconvert_exporter": "python",
   "pygments_lexer": "ipython3",
   "version": "3.10.18"
  }
 },
 "nbformat": 4,
 "nbformat_minor": 5
}
