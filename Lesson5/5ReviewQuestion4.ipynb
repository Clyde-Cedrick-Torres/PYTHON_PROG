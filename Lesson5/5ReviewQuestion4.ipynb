{
 "cells": [
  {
   "cell_type": "markdown",
   "id": "602f3c39-4600-4af7-bbc1-615c637ffaaf",
   "metadata": {},
   "source": [
    "# REVIEW QUESTION 4"
   ]
  },
  {
   "cell_type": "code",
   "execution_count": null,
   "id": "acf0ea38-b504-4bd2-a583-d1ad0147cdc8",
   "metadata": {},
   "outputs": [],
   "source": [
    "captains = {}"
   ]
  },
  {
   "cell_type": "code",
   "execution_count": null,
   "id": "e6c98282-bec1-4638-9795-8bbf388d6c78",
   "metadata": {},
   "outputs": [],
   "source": [
    "captains['Enterprise'] = 'Picard'\n",
    "captains['Voyager'] = 'Janeway'\n",
    "captains['Defiant'] = 'Sisko'\n"
   ]
  },
  {
   "cell_type": "code",
   "execution_count": null,
   "id": "a335af6e-28f1-44ad-8692-2f47ee54337c",
   "metadata": {},
   "outputs": [],
   "source": [
    "if 'Enterprise' not in captains:\n",
    "    captains['Enterprise'] = 'Unknown'"
   ]
  },
  {
   "cell_type": "code",
   "execution_count": null,
   "id": "33b1aa7d-e947-4ed9-95e2-d053d69dfb10",
   "metadata": {},
   "outputs": [],
   "source": [
    "if 'Discovery' not in captains:\n",
    "    captains['Discovery'] = 'Unknown'"
   ]
  },
  {
   "cell_type": "code",
   "execution_count": 4,
   "id": "1fc58ff3-7349-4af3-b6da-8e5d339fdb06",
   "metadata": {},
   "outputs": [
    {
     "name": "stdout",
     "output_type": "stream",
     "text": [
      "The Enterprise is captained by Picard.\n",
      "The Voyager is captained by Janeway.\n",
      "The Defiant is captained by Sisko.\n",
      "The Discovery is captained by Unknown.\n"
     ]
    }
   ],
   "source": [
    "for ship, captain in captains.items():\n",
    "    print(f\"The {ship} is captained by {captain}.\")"
   ]
  },
  {
   "cell_type": "code",
   "execution_count": 5,
   "id": "0e92b268-6fd9-474b-8dbf-92e31c11ed59",
   "metadata": {},
   "outputs": [],
   "source": [
    "del captains['Discovery']\n"
   ]
  },
  {
   "cell_type": "code",
   "execution_count": 8,
   "id": "f43326e7-b9f6-47d8-93ff-53fb46bb398d",
   "metadata": {},
   "outputs": [
    {
     "name": "stdout",
     "output_type": "stream",
     "text": [
      "\n",
      "After deletion and re-creation using dict():\n",
      "The Enterprise is captained by Picard.\n",
      "The Voyager is captained by Janeway.\n",
      "The Defiant is captained by Sisko.\n"
     ]
    }
   ],
   "source": [
    "captains = dict(\n",
    "    Enterprise='Picard',\n",
    "    Voyager='Janeway',\n",
    "    Defiant='Sisko'\n",
    ")\n",
    "print(\"\\nAfter deletion and re-creation using dict():\")\n",
    "for ship, captain in captains.items():\n",
    "    print(f\"The {ship} is captained by {captain}.\")\n"
   ]
  },
  {
   "cell_type": "markdown",
   "id": "c4f11ba4-cdff-4efc-85bd-8264c05d8df3",
   "metadata": {},
   "source": [
    "# CHALLENGE QUESTION CAPITAL CITY LOOP\n"
   ]
  },
  {
   "cell_type": "code",
   "execution_count": 9,
   "id": "7032289f-d069-4942-a0ff-8d5e0585a382",
   "metadata": {},
   "outputs": [
    {
     "name": "stdout",
     "output_type": "stream",
     "text": [
      "The capital of Alabama is Montgomery.\n",
      "The capital of Alaska is Juneau.\n",
      "The capital of Arizona is Phoenix.\n",
      "The capital of Arkansas is Little Rock.\n",
      "The capital of California is Sacramento.\n",
      "The capital of Colorado is Denver.\n",
      "The capital of Connecticut is Hartford.\n",
      "The capital of Delaware is Dover.\n",
      "The capital of Florida is Tallahassee.\n",
      "The capital of Georgia is Atlanta.\n"
     ]
    }
   ],
   "source": [
    "capitals_dictionary = {\n",
    "    'Alabama': 'Montgomery',\n",
    "    'Alaska': 'Juneau',\n",
    "    'Arizona': 'Phoenix',\n",
    "    'Arkansas': 'Little Rock',\n",
    "    'California': 'Sacramento',\n",
    "    'Colorado': 'Denver',\n",
    "    'Connecticut': 'Hartford',\n",
    "    'Delaware': 'Dover',\n",
    "    'Florida': 'Tallahassee',\n",
    "    'Georgia': 'Atlanta',\n",
    "}\n",
    "for state, capital in capitals_dictionary.items():\n",
    "    print(f\"The capital of {state} is {capital}.\")"
   ]
  },
  {
   "cell_type": "code",
   "execution_count": null,
   "id": "1816be93-663a-48e7-ba02-18b15fe1cbcb",
   "metadata": {},
   "outputs": [],
   "source": []
  }
 ],
 "metadata": {
  "kernelspec": {
   "display_name": "Python 3 (ipykernel)",
   "language": "python",
   "name": "python3"
  },
  "language_info": {
   "codemirror_mode": {
    "name": "ipython",
    "version": 3
   },
   "file_extension": ".py",
   "mimetype": "text/x-python",
   "name": "python",
   "nbconvert_exporter": "python",
   "pygments_lexer": "ipython3",
   "version": "3.10.18"
  }
 },
 "nbformat": 4,
 "nbformat_minor": 5
}
