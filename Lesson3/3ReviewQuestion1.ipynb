{
 "cells": [
  {
   "cell_type": "markdown",
   "id": "99af99bc-4745-4152-a364-7a3c4b8a0198",
   "metadata": {},
   "source": [
    "# REVIEW QUESTION 1"
   ]
  },
  {
   "cell_type": "code",
   "execution_count": 5,
   "id": "a3110799-0e8b-4268-bf06-1cd03e9b7eb2",
   "metadata": {},
   "outputs": [
    {
     "name": "stdout",
     "output_type": "stream",
     "text": [
      "8\n",
      "27\n",
      "125\n"
     ]
    }
   ],
   "source": [
    "def cube(number):\n",
    "    return number ** 3\n",
    "\n",
    "print(cube(2))\n",
    "print(cube(3)) \n",
    "print(cube(5))"
   ]
  },
  {
   "cell_type": "code",
   "execution_count": 7,
   "id": "3c96266e-550c-4ae5-bce2-df326b132d8f",
   "metadata": {},
   "outputs": [
    {
     "name": "stdout",
     "output_type": "stream",
     "text": [
      "Hello Clyde!\n",
      "Hello Davensho!\n"
     ]
    }
   ],
   "source": [
    "def greet (name):\n",
    "    print(\"Hello \" + name + \"!\")\n",
    "\n",
    "greet(\"Clyde\")\n",
    "greet(\"Davensho\")"
   ]
  },
  {
   "cell_type": "markdown",
   "id": "35449f23-d884-4a96-b799-aa40e9243312",
   "metadata": {},
   "source": [
    "# REVIEW QUESTION 1 CHALLENGE CONVERT TEMPERATURES\n"
   ]
  },
  {
   "cell_type": "code",
   "execution_count": 10,
   "id": "06a0722a-d0a1-4d1c-922c-fccceeabb96c",
   "metadata": {},
   "outputs": [
    {
     "name": "stdin",
     "output_type": "stream",
     "text": [
      "Enter a Temperature in degrees F:  72\n"
     ]
    },
    {
     "name": "stdout",
     "output_type": "stream",
     "text": [
      "72.0 degrees F = 22.22 degrees C\n"
     ]
    },
    {
     "name": "stdin",
     "output_type": "stream",
     "text": [
      "Enter a Temperature in degrees C:  37\n"
     ]
    },
    {
     "name": "stdout",
     "output_type": "stream",
     "text": [
      "37.0 degrees C =  98.60 degrees F\n"
     ]
    }
   ],
   "source": [
    "def convert_cel_to_far(celcius):\n",
    "    return (celcius * 9/5) + 32\n",
    "\n",
    "def convert_far_to_cel(farenheit):\n",
    "    return (fahrenheit - 32) * 5/9\n",
    "\n",
    "fahrenheit =float(input(\"Enter a Temperature in degrees F: \"))\n",
    "print(f\"{fahrenheit} degrees F = {convert_far_to_cel(fahrenheit):.2f} degrees C\")\n",
    "   \n",
    "celcius =float(input(\"Enter a Temperature in degrees C: \"))\n",
    "print(f\"{celcius} degrees C =  {convert_cel_to_far(celcius):.2f} degrees F\")"
   ]
  },
  {
   "cell_type": "code",
   "execution_count": null,
   "id": "af02d823-1baa-47e8-b821-add0eeae2973",
   "metadata": {},
   "outputs": [],
   "source": []
  }
 ],
 "metadata": {
  "kernelspec": {
   "display_name": "Python 3 (ipykernel)",
   "language": "python",
   "name": "python3"
  },
  "language_info": {
   "codemirror_mode": {
    "name": "ipython",
    "version": 3
   },
   "file_extension": ".py",
   "mimetype": "text/x-python",
   "name": "python",
   "nbconvert_exporter": "python",
   "pygments_lexer": "ipython3",
   "version": "3.13.5"
  }
 },
 "nbformat": 4,
 "nbformat_minor": 5
}
