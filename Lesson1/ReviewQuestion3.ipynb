{
 "cells": [
  {
   "cell_type": "markdown",
   "id": "1b9777c5-a821-4a39-b75e-8ef8e6bf0606",
   "metadata": {},
   "source": [
    "# REVIEW QUESTIONS 3"
   ]
  },
  {
   "cell_type": "code",
   "execution_count": 12,
   "id": "ba9f76b5-7d3a-4154-b77a-e5e05056be1f",
   "metadata": {},
   "outputs": [
    {
     "name": "stdin",
     "output_type": "stream",
     "text": [
      "Enter an animal name: Cache\n"
     ]
    },
    {
     "name": "stdout",
     "output_type": "stream",
     "text": [
      "the animal name is: Cache\n"
     ]
    }
   ],
   "source": [
    "#INPUTS NAME\n",
    "user_input =input(\"Enter an animal name:\" )\n",
    "print(\"the animal name is:\", user_input)"
   ]
  },
  {
   "cell_type": "code",
   "execution_count": 13,
   "id": "72c0bc1c-1de6-4aef-bab6-03c8d7ce44a0",
   "metadata": {},
   "outputs": [
    {
     "name": "stdin",
     "output_type": "stream",
     "text": [
      "Enter an animal name: CACHE\n"
     ]
    },
    {
     "name": "stdout",
     "output_type": "stream",
     "text": [
      "the animal name in lowercase is: cache\n"
     ]
    }
   ],
   "source": [
    "#INPUTS NAME TO LOWERCASE\n",
    "user_input =input(\"Enter an animal name:\" ) \n",
    "print(\"the animal name in lowercase is:\", user_input.lower())"
   ]
  },
  {
   "cell_type": "code",
   "execution_count": 14,
   "id": "60b58c83-e15d-4251-b6d9-a57a11448c83",
   "metadata": {},
   "outputs": [
    {
     "name": "stdin",
     "output_type": "stream",
     "text": [
      "Enter an animal name: Cache\n"
     ]
    },
    {
     "name": "stdout",
     "output_type": "stream",
     "text": [
      "number of characters is: 5\n"
     ]
    }
   ],
   "source": [
    "#LENGTH\n",
    "user_input =input(\"Enter an animal name:\" ) \n",
    "print(\"number of characters is:\", len(user_input))"
   ]
  },
  {
   "cell_type": "code",
   "execution_count": null,
   "id": "04cd9423-39df-42f1-84f0-5c1d14f4649c",
   "metadata": {},
   "outputs": [],
   "source": []
  }
 ],
 "metadata": {
  "kernelspec": {
   "display_name": "Python 3 (ipykernel)",
   "language": "python",
   "name": "python3"
  },
  "language_info": {
   "codemirror_mode": {
    "name": "ipython",
    "version": 3
   },
   "file_extension": ".py",
   "mimetype": "text/x-python",
   "name": "python",
   "nbconvert_exporter": "python",
   "pygments_lexer": "ipython3",
   "version": "3.10.18"
  }
 },
 "nbformat": 4,
 "nbformat_minor": 5
}
