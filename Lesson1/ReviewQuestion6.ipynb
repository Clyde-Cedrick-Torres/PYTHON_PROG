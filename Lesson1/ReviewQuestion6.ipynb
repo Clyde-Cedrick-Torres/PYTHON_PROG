{
 "cells": [
  {
   "cell_type": "markdown",
   "id": "337a042e-4616-4683-9a29-da1db92d64ec",
   "metadata": {},
   "source": [
    "# Review Question 6"
   ]
  },
  {
   "cell_type": "code",
   "execution_count": 2,
   "id": "8c729e0f-7b0a-415e-a7f8-df36a654daf5",
   "metadata": {},
   "outputs": [
    {
     "name": "stdout",
     "output_type": "stream",
     "text": [
      "0\n"
     ]
    }
   ],
   "source": [
    "#FIND\n",
    "print(\"clyde\".find(\"c\"))"
   ]
  },
  {
   "cell_type": "code",
   "execution_count": 3,
   "id": "f4f6a985-508a-4eb2-af80-81dc08b5dfa9",
   "metadata": {},
   "outputs": [
    {
     "name": "stdout",
     "output_type": "stream",
     "text": [
      "Somebody yaid yomething to Samantha\n"
     ]
    }
   ],
   "source": [
    "#REPLACE\n",
    "text =\"Somebody said something to Samantha\"\n",
    "new_text = text.replace(\"s\",\"y\")\n",
    "print(new_text)"
   ]
  },
  {
   "cell_type": "code",
   "execution_count": 10,
   "id": "bd2a9c55-d250-4316-853e-77a042e90172",
   "metadata": {},
   "outputs": [
    {
     "name": "stdin",
     "output_type": "stream",
     "text": [
      "Enter a sentence: asdawd t\n"
     ]
    },
    {
     "name": "stdout",
     "output_type": "stream",
     "text": [
      "The first 't'is at index 7.\n"
     ]
    }
   ],
   "source": [
    "#INDEX\n",
    "sentence = input(\"Enter a sentence:\")\n",
    "position = sentence.find(\"t\")\n",
    "if position !=-1:\n",
    " print(f\"The first 't'is at index {position}.\")"
   ]
  },
  {
   "cell_type": "code",
   "execution_count": null,
   "id": "49368ce0-f95a-4e81-9ee1-1ae0ca6c6930",
   "metadata": {},
   "outputs": [],
   "source": []
  }
 ],
 "metadata": {
  "kernelspec": {
   "display_name": "Python 3 (ipykernel)",
   "language": "python",
   "name": "python3"
  },
  "language_info": {
   "codemirror_mode": {
    "name": "ipython",
    "version": 3
   },
   "file_extension": ".py",
   "mimetype": "text/x-python",
   "name": "python",
   "nbconvert_exporter": "python",
   "pygments_lexer": "ipython3",
   "version": "3.13.5"
  }
 },
 "nbformat": 4,
 "nbformat_minor": 5
}
