{
 "cells": [
  {
   "cell_type": "markdown",
   "id": "e235f2c3-e90d-4ae9-8395-b9bd6ccbbe47",
   "metadata": {},
   "source": [
    "# REVIEW QUESTION 1"
   ]
  },
  {
   "cell_type": "code",
   "execution_count": 22,
   "id": "5ad4e183-9221-4230-be94-a08533873b11",
   "metadata": {},
   "outputs": [
    {
     "name": "stdout",
     "output_type": "stream",
     "text": [
      "18\n"
     ]
    }
   ],
   "source": [
    "\n",
    "#CHECKS STRING LENGTH\n",
    "print(len(\"clydecedricktorres\"))"
   ]
  },
  {
   "cell_type": "code",
   "execution_count": 23,
   "id": "040fd0f2-da48-4a30-bbf6-426ba1e7fd56",
   "metadata": {},
   "outputs": [
    {
     "name": "stdout",
     "output_type": "stream",
     "text": [
      "blueberrypie\n"
     ]
    }
   ],
   "source": [
    "#CONCATENATE NO SPACING\n",
    "string1 =\"blueberry\"\n",
    "string2 =\"pie\"\n",
    "print(string1 + string2)"
   ]
  },
  {
   "cell_type": "code",
   "execution_count": 19,
   "id": "90403200-7b7e-4180-953c-adff3069b3e2",
   "metadata": {},
   "outputs": [
    {
     "name": "stdout",
     "output_type": "stream",
     "text": [
      "blueberry pie\n"
     ]
    }
   ],
   "source": [
    "#CONCATENATE WITH SPACING\n",
    "string1 =\"blueberry\"\n",
    "string2 =\"pie\"\n",
    "print(string1+\" \"+string2)"
   ]
  },
  {
   "cell_type": "code",
   "execution_count": 20,
   "id": "30e3400d-0af4-432f-984b-1b314836553f",
   "metadata": {},
   "outputs": [
    {
     "name": "stdout",
     "output_type": "stream",
     "text": [
      "fox\n"
     ]
    }
   ],
   "source": [
    "#STRING SLICING\n",
    "sentence = \"The quick brown fox jumped over the lazy dog.#1234567890!\"\n",
    "print(sentence[16:19])"
   ]
  },
  {
   "cell_type": "code",
   "execution_count": null,
   "id": "17da2b70-eeaa-4a39-8838-f167b2733ce5",
   "metadata": {},
   "outputs": [],
   "source": []
  }
 ],
 "metadata": {
  "kernelspec": {
   "display_name": "Python 3 (ipykernel)",
   "language": "python",
   "name": "python3"
  },
  "language_info": {
   "codemirror_mode": {
    "name": "ipython",
    "version": 3
   },
   "file_extension": ".py",
   "mimetype": "text/x-python",
   "name": "python",
   "nbconvert_exporter": "python",
   "pygments_lexer": "ipython3",
   "version": "3.10.18"
  }
 },
 "nbformat": 4,
 "nbformat_minor": 5
}
