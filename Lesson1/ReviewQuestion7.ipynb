{
 "cells": [
  {
   "cell_type": "markdown",
   "id": "8181705e-f5a4-46f6-a21b-a8d8899ba971",
   "metadata": {},
   "source": [
    "# Review Question 7\n"
   ]
  },
  {
   "cell_type": "code",
   "execution_count": 6,
   "id": "07a993b0-c454-4516-9464-5a21d5bb5bee",
   "metadata": {},
   "outputs": [
    {
     "name": "stdin",
     "output_type": "stream",
     "text": [
      "Enter a word or sentence I like to eat eggs and spam\n"
     ]
    },
    {
     "name": "stdout",
     "output_type": "stream",
     "text": [
      "Leetspeak: I l1k3 70 347 3gg5 4nd 5p4m\n"
     ]
    }
   ],
   "source": [
    "#LEETSPEAK\n",
    "text = input(\"Enter a word or sentence\")\n",
    "text = text.replace(\"a\",\"4\")\n",
    "text = text.replace(\"e\",\"3\")\n",
    "text = text.replace(\"i\",\"1\")\n",
    "text = text.replace(\"o\",\"0\")\n",
    "text = text.replace(\"s\",\"5\")\n",
    "text = text.replace(\"t\",\"7\")\n",
    "print(\"Leetspeak:\",text)"
   ]
  },
  {
   "cell_type": "code",
   "execution_count": null,
   "id": "72b9f846-a0ce-43c4-aae8-7ddf42ccf99a",
   "metadata": {},
   "outputs": [],
   "source": []
  }
 ],
 "metadata": {
  "kernelspec": {
   "display_name": "Python 3 (ipykernel)",
   "language": "python",
   "name": "python3"
  },
  "language_info": {
   "codemirror_mode": {
    "name": "ipython",
    "version": 3
   },
   "file_extension": ".py",
   "mimetype": "text/x-python",
   "name": "python",
   "nbconvert_exporter": "python",
   "pygments_lexer": "ipython3",
   "version": "3.13.5"
  }
 },
 "nbformat": 4,
 "nbformat_minor": 5
}
