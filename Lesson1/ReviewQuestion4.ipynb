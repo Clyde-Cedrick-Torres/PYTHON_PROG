{
 "cells": [
  {
   "cell_type": "markdown",
   "id": "9ca2cad8-e496-4a18-8a03-e3815b057fa3",
   "metadata": {},
   "source": [
    "# REVIEW QUESTION 4"
   ]
  },
  {
   "cell_type": "code",
   "execution_count": 1,
   "id": "39ab4df1-36a8-427e-9c4e-f31769cfb16e",
   "metadata": {},
   "outputs": [
    {
     "name": "stdin",
     "output_type": "stream",
     "text": [
      "Tell me your name: Clyde\n"
     ]
    },
    {
     "name": "stdout",
     "output_type": "stream",
     "text": [
      "The first letter of your name is: C\n"
     ]
    }
   ],
   "source": [
    "#FIRST LETTER\n",
    "name = input(\"Tell me your name:\")\n",
    "first_letter = name[0].upper()\n",
    "print(\"The first letter of your name is:\", first_letter)"
   ]
  },
  {
   "cell_type": "code",
   "execution_count": null,
   "id": "43fbd237-51f9-4817-a3ac-ca07351ef01c",
   "metadata": {},
   "outputs": [],
   "source": []
  }
 ],
 "metadata": {
  "kernelspec": {
   "display_name": "Python 3 (ipykernel)",
   "language": "python",
   "name": "python3"
  },
  "language_info": {
   "codemirror_mode": {
    "name": "ipython",
    "version": 3
   },
   "file_extension": ".py",
   "mimetype": "text/x-python",
   "name": "python",
   "nbconvert_exporter": "python",
   "pygments_lexer": "ipython3",
   "version": "3.10.18"
  }
 },
 "nbformat": 4,
 "nbformat_minor": 5
}
