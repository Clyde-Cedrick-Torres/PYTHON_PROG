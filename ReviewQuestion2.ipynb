{
 "cells": [
  {
   "cell_type": "markdown",
   "id": "8170b7cf-3269-4fc8-a724-343258d70dca",
   "metadata": {},
   "source": [
    "# REVIEW QUESTION 2"
   ]
  },
  {
   "cell_type": "code",
   "execution_count": 1,
   "id": "67ea1ebe-120e-4129-ac82-0f1eda7cfc0d",
   "metadata": {},
   "outputs": [
    {
     "name": "stdout",
     "output_type": "stream",
     "text": [
      "animals, honey bee, honeybadger,\n"
     ]
    }
   ],
   "source": [
    "#TEXT TO LOWERCASE\n",
    "text = \"Animals, Honey Bee, HoneyBadger,\"\n",
    "print(text.lower())"
   ]
  },
  {
   "cell_type": "code",
   "execution_count": 9,
   "id": "89c85f98-c850-4b10-b967-5e9ce003d014",
   "metadata": {},
   "outputs": [
    {
     "name": "stdout",
     "output_type": "stream",
     "text": [
      "ANIMALS, HONEY BEE, HONEYBADGER,\n"
     ]
    }
   ],
   "source": [
    "#TEXT TO UPPERCASE\n",
    "text = \"Animals, Honey Bee, HoneyBadger,\"\n",
    "print(text.upper())"
   ]
  },
  {
   "cell_type": "code",
   "execution_count": 10,
   "id": "1a3c2368-5c31-49f7-b6b7-9ba3be459848",
   "metadata": {},
   "outputs": [
    {
     "name": "stdout",
     "output_type": "stream",
     "text": [
      "Fillet Mignon\n",
      "Brisket\n"
     ]
    }
   ],
   "source": [
    "#WHITESPACE\n",
    "string1 = \" Fillet Mignon\"\n",
    "string2 = \"Brisket   \"\n",
    "print(string1.strip())\n",
    "print(string2.strip())"
   ]
  },
  {
   "cell_type": "code",
   "execution_count": 15,
   "id": "5b9f7dc8-a793-422c-99b1-ad6d60bd1a4b",
   "metadata": {},
   "outputs": [
    {
     "name": "stdout",
     "output_type": "stream",
     "text": [
      "True\n",
      "True\n"
     ]
    }
   ],
   "source": [
    "#STARTSWITH\n",
    "string1= \"Becomes\"\n",
    "string2= \"becomes\"\n",
    "print(string1.startswith(\"Be\"))\n",
    "print(string2.startswith(\"be\"))"
   ]
  },
  {
   "cell_type": "code",
   "execution_count": 18,
   "id": "efa1ff3b-6c18-420f-9d8b-faea36fb8ec5",
   "metadata": {},
   "outputs": [
    {
     "name": "stdout",
     "output_type": "stream",
     "text": [
      "False\n",
      "True\n"
     ]
    }
   ],
   "source": [
    "#STARTSWITH2\n",
    "string1 = string1.lower()\n",
    "string2 = string2.lower()\n",
    "print(string1.startswith(\"Be\"))\n",
    "print(string2.startswith(\"be\"))"
   ]
  }
 ],
 "metadata": {
  "kernelspec": {
   "display_name": "Python 3 (ipykernel)",
   "language": "python",
   "name": "python3"
  },
  "language_info": {
   "codemirror_mode": {
    "name": "ipython",
    "version": 3
   },
   "file_extension": ".py",
   "mimetype": "text/x-python",
   "name": "python",
   "nbconvert_exporter": "python",
   "pygments_lexer": "ipython3",
   "version": "3.10.18"
  }
 },
 "nbformat": 4,
 "nbformat_minor": 5
}
