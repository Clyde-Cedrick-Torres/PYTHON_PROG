{
 "cells": [
  {
   "cell_type": "code",
   "execution_count": 4,
   "id": "7d7fd1c0-aa7c-4e37-a10f-7d5c2bbcf2d9",
   "metadata": {
    "scrolled": true
   },
   "outputs": [
    {
     "name": "stdin",
     "output_type": "stream",
     "text": [
      "Enter a number:  10\n",
      "Enter another number:  1.5\n"
     ]
    },
    {
     "name": "stdout",
     "output_type": "stream",
     "text": [
      "The difference between 10.0 and 1.5 is an integer? False!\n"
     ]
    }
   ],
   "source": [
    "#\n",
    "num1 = float(input(\"Enter a number: \"))\n",
    "num2 = float(input(\"Enter another number: \"))\n",
    "\n",
    "\n",
    "difference = abs(num1 - num2)  \n",
    "\n",
    "\n",
    "is_integer = difference.is_integer()  \n",
    "\n",
    "\n",
    "print(f\"The difference between {num1} and {num2} is an integer? {is_integer}!\")\n"
   ]
  },
  {
   "cell_type": "code",
   "execution_count": 5,
   "id": "d43621a6-5d2e-49b7-b0fd-ef5449ecc58f",
   "metadata": {
    "scrolled": true
   },
   "outputs": [
    {
     "name": "stdout",
     "output_type": "stream",
     "text": [
      "The smallest N is 1023\n"
     ]
    }
   ],
   "source": [
    "#FIND SMALLEST N\n",
    "import math\n",
    "\n",
    "N = 1\n",
    "value = 2.0  \n",
    "while True:\n",
    "    value = value * 2   \n",
    "    if math.isinf(value):   \n",
    "        print(f\"The smallest N is {N}\")\n",
    "        break\n",
    "    N += 1\n"
   ]
  }
 ],
 "metadata": {
  "kernelspec": {
   "display_name": "Python 3 (ipykernel)",
   "language": "python",
   "name": "python3"
  },
  "language_info": {
   "codemirror_mode": {
    "name": "ipython",
    "version": 3
   },
   "file_extension": ".py",
   "mimetype": "text/x-python",
   "name": "python",
   "nbconvert_exporter": "python",
   "pygments_lexer": "ipython3",
   "version": "3.10.18"
  }
 },
 "nbformat": 4,
 "nbformat_minor": 5
}
