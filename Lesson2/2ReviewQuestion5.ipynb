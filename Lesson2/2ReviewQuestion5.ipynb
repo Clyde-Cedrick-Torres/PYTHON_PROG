{
 "cells": [
  {
   "cell_type": "markdown",
   "id": "49885d88-d1fc-4367-a6d7-fe1859f03b71",
   "metadata": {},
   "source": [
    "# REVIEW QUESTION 5"
   ]
  },
  {
   "cell_type": "code",
   "execution_count": 1,
   "id": "c25a8f6e-04eb-4349-97ff-487a097b1b5c",
   "metadata": {},
   "outputs": [
    {
     "name": "stdin",
     "output_type": "stream",
     "text": [
      "Enter a number:  10.0\n",
      "Enter another number:  1.5\n"
     ]
    },
    {
     "name": "stdout",
     "output_type": "stream",
     "text": [
      "The difference between 10.0 and 1.5 is an integer? False!\n"
     ]
    }
   ],
   "source": [
    "\n",
    "#TRUE OR FALSE\n",
    "num1 = float(input(\"Enter a number: \"))\n",
    "num2 = float(input(\"Enter another number: \"))\n",
    "\n",
    "\n",
    "difference = abs(num1 - num2)  \n",
    "\n",
    "\n",
    "is_integer = difference.is_integer()  \n",
    "\n",
    "\n",
    "print(f\"The difference between {num1} and {num2} is an integer? {is_integer}!\")"
   ]
  },
  {
   "cell_type": "code",
   "execution_count": 2,
   "id": "8bfb252e-f5dc-40b3-84d1-1358a4f4986a",
   "metadata": {},
   "outputs": [
    {
     "name": "stdout",
     "output_type": "stream",
     "text": [
      "Number:  inf\n"
     ]
    }
   ],
   "source": [
    "number = 2e308\n",
    "print(\"Number is : \",number)"
   ]
  },
  {
   "cell_type": "code",
   "execution_count": null,
   "id": "f5eba0cd-0eff-433f-91d9-a6fe5f63f075",
   "metadata": {},
   "outputs": [],
   "source": []
  }
 ],
 "metadata": {
  "kernelspec": {
   "display_name": "Python 3 (ipykernel)",
   "language": "python",
   "name": "python3"
  },
  "language_info": {
   "codemirror_mode": {
    "name": "ipython",
    "version": 3
   },
   "file_extension": ".py",
   "mimetype": "text/x-python",
   "name": "python",
   "nbconvert_exporter": "python",
   "pygments_lexer": "ipython3",
   "version": "3.13.5"
  }
 },
 "nbformat": 4,
 "nbformat_minor": 5
}
