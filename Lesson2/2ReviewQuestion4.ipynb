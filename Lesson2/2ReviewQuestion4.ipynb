{
 "cells": [
  {
   "cell_type": "markdown",
   "id": "7542b43e-ae0f-442e-9dbe-743f10a71c49",
   "metadata": {},
   "source": [
    "# REVIEW QUESTION 4\n"
   ]
  },
  {
   "cell_type": "code",
   "execution_count": 1,
   "id": "215bcf74-abfa-4782-8a80-3bf0995b3c2e",
   "metadata": {},
   "outputs": [
    {
     "name": "stdout",
     "output_type": "stream",
     "text": [
      "1.147\n"
     ]
    }
   ],
   "source": [
    "#PRINT 3**.125 AS A FIXED POINT OF 3 DECIMAL PLACES\n",
    "result1 = 3**0.125\n",
    "print(f\"{result1:.3f}\")"
   ]
  },
  {
   "cell_type": "code",
   "execution_count": 2,
   "id": "6bed3112-18db-46cb-bfdc-3234f8e5527b",
   "metadata": {},
   "outputs": [
    {
     "name": "stdout",
     "output_type": "stream",
     "text": [
      "$150,000.00\n"
     ]
    }
   ],
   "source": [
    "#PRINT 150000 AS CURRENCY \n",
    "amount = 150000\n",
    "print(f\"${amount:,.2f}\")"
   ]
  },
  {
   "cell_type": "code",
   "execution_count": 3,
   "id": "a3c75477-b302-4289-91b7-0c723a5559be",
   "metadata": {},
   "outputs": [
    {
     "name": "stdout",
     "output_type": "stream",
     "text": [
      "20%\n"
     ]
    }
   ],
   "source": [
    "#PRINT 2/10 AS A PERCENTAGE\n",
    "result2 = 2/10\n",
    "print(f\"{result2:.0%}\")"
   ]
  }
 ],
 "metadata": {
  "kernelspec": {
   "display_name": "Python 3 (ipykernel)",
   "language": "python",
   "name": "python3"
  },
  "language_info": {
   "codemirror_mode": {
    "name": "ipython",
    "version": 3
   },
   "file_extension": ".py",
   "mimetype": "text/x-python",
   "name": "python",
   "nbconvert_exporter": "python",
   "pygments_lexer": "ipython3",
   "version": "3.10.18"
  }
 },
 "nbformat": 4,
 "nbformat_minor": 5
}
