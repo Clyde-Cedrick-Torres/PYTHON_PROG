{
 "cells": [
  {
   "cell_type": "markdown",
   "id": "7ab14a98-633d-48ef-b930-adb2af4d5d5c",
   "metadata": {},
   "source": [
    "# REVIEW QUESTION 1\n"
   ]
  },
  {
   "cell_type": "code",
   "execution_count": 3,
   "id": "53872ea2-96a2-436e-8e8d-32e2a9b6b949",
   "metadata": {},
   "outputs": [
    {
     "name": "stdin",
     "output_type": "stream",
     "text": [
      "Enter a base:  1.2\n",
      "Enter an exponent:  3\n"
     ]
    },
    {
     "name": "stdout",
     "output_type": "stream",
     "text": [
      "1.2 to the power of 3.0 = 1.7279999999999998\n"
     ]
    }
   ],
   "source": [
    "#EXPONENT\n",
    "base = float(input(\"Enter a base: \"))\n",
    "exponent = float(input(\"Enter an exponent: \"))\n",
    "\n",
    "result = base ** exponent\n",
    "print(f\"{base} to the power of {exponent} = {result}\")\n"
   ]
  },
  {
   "cell_type": "code",
   "execution_count": null,
   "id": "1849592e-cae7-4ddf-a6ce-f78b3d5bc08b",
   "metadata": {},
   "outputs": [],
   "source": []
  }
 ],
 "metadata": {
  "kernelspec": {
   "display_name": "Python 3 (ipykernel)",
   "language": "python",
   "name": "python3"
  },
  "language_info": {
   "codemirror_mode": {
    "name": "ipython",
    "version": 3
   },
   "file_extension": ".py",
   "mimetype": "text/x-python",
   "name": "python",
   "nbconvert_exporter": "python",
   "pygments_lexer": "ipython3",
   "version": "3.10.18"
  }
 },
 "nbformat": 4,
 "nbformat_minor": 5
}
