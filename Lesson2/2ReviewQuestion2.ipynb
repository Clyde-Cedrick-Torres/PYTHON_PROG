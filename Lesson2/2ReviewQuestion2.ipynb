{
 "cells": [
  {
   "cell_type": "markdown",
   "id": "275b3818-d1d6-407f-8b34-7ecdac789b7c",
   "metadata": {},
   "source": [
    "# REVIEW QUESTION 2"
   ]
  },
  {
   "cell_type": "code",
   "execution_count": 4,
   "id": "aba226e8-60f7-4930-b0d5-b125e7d44d2e",
   "metadata": {},
   "outputs": [
    {
     "name": "stdin",
     "output_type": "stream",
     "text": [
      "Give me a number:  5.432\n"
     ]
    },
    {
     "name": "stdout",
     "output_type": "stream",
     "text": [
      "5.432 rounded to 2 decimal places is 5.43\n"
     ]
    }
   ],
   "source": [
    "#ROUND TO TWO DECIMAL PLACES\n",
    "num = float(input(\"Give me a number: \"))\n",
    "print(f\"{num} rounded to 2 decimal places is {round(num, 2)}\")"
   ]
  },
  {
   "cell_type": "code",
   "execution_count": 3,
   "id": "43dd0a65-34b7-49f7-82fc-ce96c531b4cb",
   "metadata": {},
   "outputs": [
    {
     "name": "stdin",
     "output_type": "stream",
     "text": [
      "Give me a number:  -10\n"
     ]
    },
    {
     "name": "stdout",
     "output_type": "stream",
     "text": [
      "The absolute value of -10.0 is 10.0\n"
     ]
    }
   ],
   "source": [
    "#ABSOLUTE VALUE\n",
    "num = float(input(\"Give me a number: \"))\n",
    "print(f\"The absolute value of {num} is {abs(num)}\")"
   ]
  },
  {
   "cell_type": "code",
   "execution_count": null,
   "id": "57c33f03-6704-4cf6-95e8-b330bfb22b31",
   "metadata": {},
   "outputs": [],
   "source": []
  }
 ],
 "metadata": {
  "kernelspec": {
   "display_name": "Python 3 (ipykernel)",
   "language": "python",
   "name": "python3"
  },
  "language_info": {
   "codemirror_mode": {
    "name": "ipython",
    "version": 3
   },
   "file_extension": ".py",
   "mimetype": "text/x-python",
   "name": "python",
   "nbconvert_exporter": "python",
   "pygments_lexer": "ipython3",
   "version": "3.10.18"
  }
 },
 "nbformat": 4,
 "nbformat_minor": 5
}
