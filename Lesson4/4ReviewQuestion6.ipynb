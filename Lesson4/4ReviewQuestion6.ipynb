{
 "cells": [
  {
   "cell_type": "markdown",
   "id": "a25975f4-ac0e-4141-984a-0758efc3449a",
   "metadata": {},
   "source": [
    "# REVIEW QUESTION 6\n"
   ]
  },
  {
   "cell_type": "code",
   "execution_count": 3,
   "id": "124909c0-a096-4407-9d95-b40c1573c4bf",
   "metadata": {},
   "outputs": [
    {
     "name": "stdout",
     "output_type": "stream",
     "text": [
      "4\n"
     ]
    }
   ],
   "source": [
    "import random\n",
    "\n",
    "def rollo():\n",
    "    return random.randint(1, 6)\n",
    "\n",
    "\n",
    "print(rollo())\n"
   ]
  },
  {
   "cell_type": "code",
   "execution_count": 4,
   "id": "137e2133-c3cc-4a90-98ac-ec6293dd2bdc",
   "metadata": {},
   "outputs": [
    {
     "name": "stdout",
     "output_type": "stream",
     "text": [
      "Average number rolled: 3.4904\n"
     ]
    }
   ],
   "source": [
    "import random\n",
    "\n",
    "def rollo():\n",
    "    return random.randint(1, 6)\n",
    "\n",
    "total = 0\n",
    "for _ in range(10000):\n",
    "    total += rollo()\n",
    "\n",
    "average = total / 10000\n",
    "print(\"Average number rolled:\", average)\n"
   ]
  },
  {
   "cell_type": "code",
   "execution_count": null,
   "id": "194f1d72-6dc6-4db9-b98e-7543ea69cd73",
   "metadata": {},
   "outputs": [],
   "source": []
  }
 ],
 "metadata": {
  "kernelspec": {
   "display_name": "Python 3 (ipykernel)",
   "language": "python",
   "name": "python3"
  },
  "language_info": {
   "codemirror_mode": {
    "name": "ipython",
    "version": 3
   },
   "file_extension": ".py",
   "mimetype": "text/x-python",
   "name": "python",
   "nbconvert_exporter": "python",
   "pygments_lexer": "ipython3",
   "version": "3.10.18"
  }
 },
 "nbformat": 4,
 "nbformat_minor": 5
}
