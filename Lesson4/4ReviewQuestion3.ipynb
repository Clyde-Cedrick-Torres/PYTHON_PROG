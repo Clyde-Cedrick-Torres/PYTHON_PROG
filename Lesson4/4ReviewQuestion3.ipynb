{
 "cells": [
  {
   "cell_type": "markdown",
   "id": "9f7d5ff9-fa00-4cd0-a286-93399bdef0de",
   "metadata": {},
   "source": [
    "# REVIEW QUESTION 3"
   ]
  },
  {
   "cell_type": "code",
   "execution_count": 1,
   "id": "ec8b9a4c-bc4e-4e20-be9d-ec1e981d01a7",
   "metadata": {},
   "outputs": [
    {
     "name": "stdin",
     "output_type": "stream",
     "text": [
      "Enter a word:  Cly\n"
     ]
    },
    {
     "name": "stdout",
     "output_type": "stream",
     "text": [
      "This word has less than 5 characters.\n"
     ]
    }
   ],
   "source": [
    "word = input(\"Enter a word: \")\n",
    "\n",
    "length = len(word)\n",
    "\n",
    "if length < 5:\n",
    "    print(\"This word has less than 5 characters.\")\n",
    "elif length == 5:\n",
    "    print(\"This word has exactly 5 characters.\")\n",
    "else:\n",
    "    print(\"This word has more than 5 characters.\")"
   ]
  },
  {
   "cell_type": "code",
   "execution_count": null,
   "id": "a270d246-5bd8-4dfd-bc9b-3a8a711107fd",
   "metadata": {},
   "outputs": [],
   "source": []
  }
 ],
 "metadata": {
  "kernelspec": {
   "display_name": "Python 3 (ipykernel)",
   "language": "python",
   "name": "python3"
  },
  "language_info": {
   "codemirror_mode": {
    "name": "ipython",
    "version": 3
   },
   "file_extension": ".py",
   "mimetype": "text/x-python",
   "name": "python",
   "nbconvert_exporter": "python",
   "pygments_lexer": "ipython3",
   "version": "3.10.18"
  }
 },
 "nbformat": 4,
 "nbformat_minor": 5
}
