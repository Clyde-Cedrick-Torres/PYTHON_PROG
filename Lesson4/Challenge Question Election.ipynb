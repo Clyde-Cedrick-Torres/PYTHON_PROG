{
 "cells": [
  {
   "cell_type": "markdown",
   "id": "ca3efe73-c79b-431b-ab8d-76668a3a7944",
   "metadata": {},
   "source": [
    "# CHALLENGE QUESTION ELECTION\n"
   ]
  },
  {
   "cell_type": "code",
   "execution_count": 1,
   "id": "bc41989a-c1d2-40ab-9900-5f56413493ec",
   "metadata": {},
   "outputs": [
    {
     "name": "stdout",
     "output_type": "stream",
     "text": [
      "Estimated probability Candidate A wins the election: 0.6203\n"
     ]
    }
   ],
   "source": [
    "import random\n",
    "\n",
    "def simulate_election(trials=10000):\n",
    "    a_wins = 0  \n",
    "\n",
    "    for _ in range(trials):\n",
    "        \n",
    "        region1 = random.random() < 0.87  \n",
    "        region2 = random.random() < 0.65  \n",
    "        region3 = random.random() < 0.17  \n",
    "\n",
    "        \n",
    "        regions_won = sum([region1, region2, region3])\n",
    "\n",
    "        \n",
    "        if regions_won >= 2:\n",
    "            a_wins += 1\n",
    "\n",
    "    probability_a_wins = a_wins / trials\n",
    "    return probability_a_wins\n",
    "\n",
    "\n",
    "result = simulate_election()\n",
    "print(\"Estimated probability Candidate A wins the election:\", result)\n"
   ]
  },
  {
   "cell_type": "code",
   "execution_count": null,
   "id": "2451d120-3825-464b-9baa-45358a225ac2",
   "metadata": {},
   "outputs": [],
   "source": []
  }
 ],
 "metadata": {
  "kernelspec": {
   "display_name": "Python 3 (ipykernel)",
   "language": "python",
   "name": "python3"
  },
  "language_info": {
   "codemirror_mode": {
    "name": "ipython",
    "version": 3
   },
   "file_extension": ".py",
   "mimetype": "text/x-python",
   "name": "python",
   "nbconvert_exporter": "python",
   "pygments_lexer": "ipython3",
   "version": "3.10.18"
  }
 },
 "nbformat": 4,
 "nbformat_minor": 5
}
