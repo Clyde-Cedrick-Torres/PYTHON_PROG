{
 "cells": [
  {
   "cell_type": "markdown",
   "id": "4c8dc86a-2b64-4c6b-95d5-dc86109aeb52",
   "metadata": {},
   "source": [
    "# REVIEW QUESTION 1\n",
    "\n"
   ]
  },
  {
   "cell_type": "code",
   "execution_count": 3,
   "id": "1e3b2fcc-3da2-418d-aa36-0d1aacfaa543",
   "metadata": {},
   "outputs": [
    {
     "name": "stdin",
     "output_type": "stream",
     "text": [
      "Enter a word:  Cly\n"
     ]
    },
    {
     "name": "stdout",
     "output_type": "stream",
     "text": [
      "The word has less than 5 characters.\n"
     ]
    }
   ],
   "source": [
    "word = input(\"Enter a word: \")\n",
    "\n",
    "\n",
    "length = len(word)\n",
    "\n",
    "\n",
    "if length < 5:\n",
    "    print(\"This word has less than 5 characters.\")\n",
    "elif length == 5:\n",
    "    print(\"This word has exactly 5 characters.\")\n",
    "else:\n",
    "    print(\"This word has more than 5 characters.\")"
   ]
  },
  {
   "cell_type": "code",
   "execution_count": null,
   "id": "ae6cc339-db83-4961-be30-4b54c7a7ad6a",
   "metadata": {},
   "outputs": [],
   "source": []
  }
 ],
 "metadata": {
  "kernelspec": {
   "display_name": "Python 3 (ipykernel)",
   "language": "python",
   "name": "python3"
  },
  "language_info": {
   "codemirror_mode": {
    "name": "ipython",
    "version": 3
   },
   "file_extension": ".py",
   "mimetype": "text/x-python",
   "name": "python",
   "nbconvert_exporter": "python",
   "pygments_lexer": "ipython3",
   "version": "3.10.18"
  }
 },
 "nbformat": 4,
 "nbformat_minor": 5
}
