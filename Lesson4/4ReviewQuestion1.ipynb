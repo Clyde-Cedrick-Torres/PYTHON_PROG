{
 "cells": [
  {
   "cell_type": "markdown",
   "id": "4c8dc86a-2b64-4c6b-95d5-dc86109aeb52",
   "metadata": {},
   "source": [
    "# REVIEW QUESTION 1\n",
    "\n"
   ]
  },
  {
   "cell_type": "code",
   "execution_count": 2,
   "id": "ae6cc339-db83-4961-be30-4b54c7a7ad6a",
   "metadata": {},
   "outputs": [
    {
     "name": "stdout",
     "output_type": "stream",
     "text": [
      "True\n",
      "False\n",
      "True\n",
      "True\n",
      "False\n"
     ]
    }
   ],
   "source": [
    "print(1 <= 1)\n",
    "print(1 != 1)\n",
    "print(\"good\" != \"bad\")\n",
    "print(\"good\" != \"Good\")\n",
    "print(123 == \"123\")"
   ]
  },
  {
   "cell_type": "code",
   "execution_count": 3,
   "id": "d3495160-a651-4531-aa89-5f421441a9ce",
   "metadata": {},
   "outputs": [
    {
     "name": "stdout",
     "output_type": "stream",
     "text": [
      "True\n",
      "True\n",
      "True\n",
      "True\n"
     ]
    }
   ],
   "source": [
    "print(3 < 4)\n",
    "print(10 > 5)\n",
    "print(\"jack\" != \"jill\")\n",
    "print(42 != \"42\")"
   ]
  },
  {
   "cell_type": "code",
   "execution_count": null,
   "id": "4be962cc-040f-4008-bb48-890be9d16758",
   "metadata": {},
   "outputs": [],
   "source": []
  }
 ],
 "metadata": {
  "kernelspec": {
   "display_name": "Python 3 (ipykernel)",
   "language": "python",
   "name": "python3"
  },
  "language_info": {
   "codemirror_mode": {
    "name": "ipython",
    "version": 3
   },
   "file_extension": ".py",
   "mimetype": "text/x-python",
   "name": "python",
   "nbconvert_exporter": "python",
   "pygments_lexer": "ipython3",
   "version": "3.10.18"
  }
 },
 "nbformat": 4,
 "nbformat_minor": 5
}
