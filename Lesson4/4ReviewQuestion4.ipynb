{
 "cells": [
  {
   "cell_type": "markdown",
   "id": "8f65b10b-39f2-4a26-90b3-caf332892790",
   "metadata": {},
   "source": [
    "# REVIEW QUESTION 4\n"
   ]
  },
  {
   "cell_type": "code",
   "execution_count": 6,
   "id": "53888047-c4da-4fa9-b1b2-f8b01f85713e",
   "metadata": {},
   "outputs": [
    {
     "name": "stdout",
     "output_type": "stream",
     "text": [
      "3\n"
     ]
    }
   ],
   "source": [
    "import random\n",
    "\n",
    "def rollo():\n",
    "    return random.randint(1, 6)\n",
    "\n",
    "\n",
    "print(rollo())\n"
   ]
  },
  {
   "cell_type": "code",
   "execution_count": null,
   "id": "8bcc30ab-eeda-4118-b04c-c97818e71fcd",
   "metadata": {},
   "outputs": [],
   "source": []
  }
 ],
 "metadata": {
  "kernelspec": {
   "display_name": "Python 3 (ipykernel)",
   "language": "python",
   "name": "python3"
  },
  "language_info": {
   "codemirror_mode": {
    "name": "ipython",
    "version": 3
   },
   "file_extension": ".py",
   "mimetype": "text/x-python",
   "name": "python",
   "nbconvert_exporter": "python",
   "pygments_lexer": "ipython3",
   "version": "3.10.18"
  }
 },
 "nbformat": 4,
 "nbformat_minor": 5
}
