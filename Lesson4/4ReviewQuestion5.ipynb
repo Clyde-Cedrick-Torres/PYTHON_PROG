{
 "cells": [
  {
   "cell_type": "markdown",
   "id": "03f6090a-6066-4f75-8830-6cf3f1584637",
   "metadata": {},
   "source": [
    "# REVIEW QUESTION 5\n"
   ]
  },
  {
   "cell_type": "code",
   "execution_count": 3,
   "id": "e46355a8-f28f-493d-917d-f712f1e0d689",
   "metadata": {},
   "outputs": [
    {
     "name": "stdin",
     "output_type": "stream",
     "text": [
      "Enter an integer:  -0.5\n"
     ]
    },
    {
     "name": "stdout",
     "output_type": "stream",
     "text": [
      "Try again. This is not an integer.\n"
     ]
    },
    {
     "name": "stdin",
     "output_type": "stream",
     "text": [
      "Enter an integer:  2\n"
     ]
    },
    {
     "name": "stdout",
     "output_type": "stream",
     "text": [
      "You entered: 2\n"
     ]
    }
   ],
   "source": [
    "while True:\n",
    "    try:\n",
    "        num = int(input(\"Enter an integer: \"))\n",
    "        print(\"You entered:\", num)\n",
    "        break\n",
    "    except ValueError:\n",
    "        print(\"Try again. This is not an integer.\")"
   ]
  },
  {
   "cell_type": "code",
   "execution_count": 2,
   "id": "ea2e0a07-de02-4f37-97bb-3d34f1e60459",
   "metadata": {},
   "outputs": [
    {
     "name": "stdin",
     "output_type": "stream",
     "text": [
      "Enter a string:  Clyde\n",
      "Enter an index number:  3\n"
     ]
    },
    {
     "name": "stdout",
     "output_type": "stream",
     "text": [
      "Character at index 3 is: d\n"
     ]
    }
   ],
   "source": [
    "string = input(\"Enter a string: \")\n",
    "n = int(input(\"Enter an index number: \"))\n",
    "\n",
    "if 0 <= n < len(string):\n",
    "    print(\"Character at index\", n, \"is:\", string[n])\n",
    "else:\n",
    "    print(\"Index out of range.\")"
   ]
  }
 ],
 "metadata": {
  "kernelspec": {
   "display_name": "Python 3 (ipykernel)",
   "language": "python",
   "name": "python3"
  },
  "language_info": {
   "codemirror_mode": {
    "name": "ipython",
    "version": 3
   },
   "file_extension": ".py",
   "mimetype": "text/x-python",
   "name": "python",
   "nbconvert_exporter": "python",
   "pygments_lexer": "ipython3",
   "version": "3.10.18"
  }
 },
 "nbformat": 4,
 "nbformat_minor": 5
}
