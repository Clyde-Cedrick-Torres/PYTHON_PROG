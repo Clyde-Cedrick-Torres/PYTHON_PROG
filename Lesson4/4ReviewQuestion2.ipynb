{
 "cells": [
  {
   "cell_type": "markdown",
   "id": "dc5cdec0-0843-44cd-a4f1-81f0d31b0d83",
   "metadata": {},
   "source": [
    "# REVIEW QUESTION 2"
   ]
  },
  {
   "cell_type": "code",
   "execution_count": 1,
   "id": "a8e7ba54-d709-49da-8bb1-a400e501d5b7",
   "metadata": {},
   "outputs": [
    {
     "name": "stdout",
     "output_type": "stream",
     "text": [
      "False\n",
      "False\n",
      "True\n",
      "False\n"
     ]
    }
   ],
   "source": [
    "print((1 <= 1) and (1 != 1))            \n",
    "print(not (1 != 2))                     \n",
    "print((\"good\" != \"bad\") or False)       \n",
    "print((\"good\" != \"Good\") and not (1 == 1)) "
   ]
  },
  {
   "cell_type": "code",
   "execution_count": 2,
   "id": "0df86b0a-51a5-47f5-903a-a010a39c83e9",
   "metadata": {},
   "outputs": [
    {
     "name": "stdout",
     "output_type": "stream",
     "text": [
      "True\n",
      "True\n",
      "False\n"
     ]
    }
   ],
   "source": [
    "print(False == (not True))             \n",
    "print((True and False) == (True and False))  \n",
    "print((not True) and (\"A\" == \"B\"))  "
   ]
  },
  {
   "cell_type": "code",
   "execution_count": null,
   "id": "d76ba2e3-5581-4ab3-92ce-935eff31c234",
   "metadata": {},
   "outputs": [],
   "source": []
  }
 ],
 "metadata": {
  "kernelspec": {
   "display_name": "Python 3 (ipykernel)",
   "language": "python",
   "name": "python3"
  },
  "language_info": {
   "codemirror_mode": {
    "name": "ipython",
    "version": 3
   },
   "file_extension": ".py",
   "mimetype": "text/x-python",
   "name": "python",
   "nbconvert_exporter": "python",
   "pygments_lexer": "ipython3",
   "version": "3.10.18"
  }
 },
 "nbformat": 4,
 "nbformat_minor": 5
}
