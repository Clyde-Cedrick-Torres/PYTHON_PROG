{
 "cells": [
  {
   "cell_type": "markdown",
   "id": "8b8f1779",
   "metadata": {},
   "source": [
    "# Q9 — Modules and Packages: **helpers**\n",
    "\n",
    "This notebook creates a small package `helpers/` with two modules and demonstrates two import styles:\n",
    "\n",
    "- `from helpers import string_utils as su` (aliasing a module)\n",
    "- `from helpers.math_utils import area` (import a single function)\n",
    "\n",
    "It also explains **namespace collisions** and why aliases help.\n"
   ]
  },
  {
   "cell_type": "markdown",
   "id": "8f0e6635",
   "metadata": {},
   "source": [
    "## 1) Create the `helpers/` package files\n",
    "\n",
    "Run this cell to generate the package next to the notebook. It creates:\n",
    "\n",
    "```\n",
    "helpers/\n",
    "├─ __init__.py\n",
    "├─ string_utils.py  (shout)\n",
    "└─ math_utils.py    (area)\n",
    "```\n"
   ]
  },
  {
   "cell_type": "code",
   "execution_count": null,
   "id": "e4a367eb",
   "metadata": {},
   "outputs": [],
   "source": [
    "from pathlib import Path\n",
    "\n",
    "root = Path.cwd()\n",
    "pkg = root / \"helpers\"\n",
    "pkg.mkdir(exist_ok=True)\n",
    "(pkg / \"__init__.py\").write_text(\"__all__ = ['string_utils', 'math_utils']\\n\")\n",
    "(pkg / \"string_utils.py\").write_text(\n",
    "    \"def shout(s: str) -> str:\\n\"\n",
    "    \"    '''Return s uppercased.'''\n",
    "\"\n",
    "    \"    return s.upper()\\n\"\n",
    ")\n",
    "(pkg / \"math_utils.py\").write_text(\n",
    "    \"def area(l: float, w: float) -> float:\\n\"\n",
    "    \"    '''Return rectangle area l * w.'''\n",
    "\"\n",
    "    \"    return l * w\\n\"\n",
    ")\n",
    "print(\"helpers/ package created at:\", pkg)"
   ]
  },
  {
   "cell_type": "markdown",
   "id": "b604ac38",
   "metadata": {},
   "source": [
    "## 2) Demonstrate both import styles\n",
    "\n",
    "- Use an **alias** for the module to avoid long dotted names: `su = helpers.string_utils`\n",
    "- Import a **single function** from a module: `area` from `helpers.math_utils`\n"
   ]
  },
  {
   "cell_type": "code",
   "execution_count": null,
   "id": "71c3c7bf",
   "metadata": {},
   "outputs": [],
   "source": [
    "# Ensure the current working directory is on sys.path for imports\n",
    "import sys, os\n",
    "if os.getcwd() not in sys.path:\n",
    "    sys.path.insert(0, os.getcwd())\n",
    "\n",
    "from helpers import string_utils as su\n",
    "from helpers.math_utils import area\n",
    "\n",
    "print(su.shout(\"hello\"))\n",
    "print(area(3, 4))  # 12"
   ]
  },
  {
   "cell_type": "markdown",
   "id": "57e92638",
   "metadata": {},
   "source": [
    "## 3) Why aliases help (namespace collisions)\n",
    "\n",
    "If two modules both export a function named `area`, doing `from module import area` twice\n",
    "would **overwrite** the previous `area` name in your workspace. Aliasing the module prevents\n",
    "this collision and makes it clear where names come from:\n",
    "\n",
    "```python\n",
    "from helpers import string_utils as su          # 'su.shout(...)'\n",
    "from helpers.math_utils import area             # 'area(...)'\n",
    "```\n",
    "\n",
    "Alternatively, you can **avoid** top-level name collisions entirely by importing both modules\n",
    "and always qualifying: `helpers.math_utils.area(...)` and `otherpkg.math_utils.area(...)` —\n",
    "but that is wordier; aliases strike a good balance.\n"
   ]
  },
  {
   "cell_type": "markdown",
   "id": "a59a8909",
   "metadata": {},
   "source": [
    "## 4) Optional: relative imports when `main.py` lives inside the package\n",
    "\n",
    "If you place `main.py` *inside* `helpers/`, use **relative** imports and run as a module:\n",
    "\n",
    "```\n",
    "helpers/\n",
    "├─ __init__.py\n",
    "├─ string_utils.py\n",
    "├─ math_utils.py\n",
    "└─ main.py\n",
    "```\n",
    "\n",
    "**helpers/main.py**\n",
    "```python\n",
    "from . import string_utils as su\n",
    "from .math_utils import area\n",
    "\n",
    "def main():\n",
    "    print(su.shout(\"hello\"))\n",
    "    print(area(3, 4))\n",
    "\n",
    "if __name__ == \"__main__\":\n",
    "    main()\n",
    "```\n",
    "\n",
    "Run it from the parent folder with:\n",
    "```\n",
    "python -m helpers.main\n",
    "```\n"
   ]
  }
 ],
 "metadata": {},
 "nbformat": 4,
 "nbformat_minor": 5
}